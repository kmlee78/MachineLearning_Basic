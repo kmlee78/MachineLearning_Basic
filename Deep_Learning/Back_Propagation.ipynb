{
 "cells": [
  {
   "cell_type": "code",
   "execution_count": 1,
   "metadata": {},
   "outputs": [],
   "source": [
    "import numpy as np\n",
    "import pandas as pd\n",
    "import matplotlib.pyplot as plt"
   ]
  },
  {
   "cell_type": "code",
   "execution_count": 2,
   "metadata": {},
   "outputs": [],
   "source": [
    "\"\"\" 데이터 셋을 불러오고 입력 변수와 목표 변수로\n",
    "    나누고 training set 과 test set 으로 나누는 작업 \"\"\"\n",
    "\n",
    "dataset = pd.read_csv('../data/MNIST_preprocessed.csv', sep=',', header=None).values\n",
    "\n",
    "X = dataset[:, 0:784]\n",
    "Y = dataset[:, 784:]\n",
    "\n",
    "X_train, X_test = X[0:250,], X[250:,]\n",
    "Y_train, Y_test = Y[0:250,], Y[250:,]"
   ]
  },
  {
   "cell_type": "code",
   "execution_count": 3,
   "metadata": {},
   "outputs": [],
   "source": [
    "# 시그모이드 함수 및 시그모이드 미분 함수\n",
    "def sigmoid(x):\n",
    "    return 1/(1 + np.exp(-x))\n",
    "\n",
    "def d_sigmoid(x):\n",
    "    return (np.exp(-x))/((np.exp(-x)+1)**2)"
   ]
  },
  {
   "cell_type": "code",
   "execution_count": 4,
   "metadata": {},
   "outputs": [],
   "source": [
    "# 신경망의 가중치와 편향을 초기화 해주는 함수(다른 파일에서 이미 함!)\n",
    "\n",
    "def initialize_parameters(neurons_per_layer):\n",
    "    L = len(neurons_per_layer) - 1 \n",
    "    parameters = {}\n",
    "    \n",
    "    for l in range(1, L+1):\n",
    "        parameters['W' + str(l)] = np.random.randn(neurons_per_layer[l], neurons_per_layer[l-1]) * np.sqrt(1. / neurons_per_layer[l])\n",
    "        parameters['b' + str(l)] = np.random.randn(neurons_per_layer[l]) * np.sqrt(1. / neurons_per_layer[l])\n",
    "        \n",
    "    return parameters"
   ]
  },
  {
   "cell_type": "code",
   "execution_count": 5,
   "metadata": {},
   "outputs": [],
   "source": [
    "# 순전파 구현(다른 파일에서 이미 함!)\n",
    "\n",
    "def feed_forward(x, parameters):\n",
    "    # 각 층의 출력 값들을 저장하고 있는 파이썬 사전 cache\n",
    "    cache = {'a0': x}\n",
    "    L = len(parameters) // 2\n",
    "    \n",
    "    for l in range(1, L+1):\n",
    "        a_prev = cache['a' + str(l-1)]\n",
    "        W = parameters['W' + str(l)]\n",
    "        b = parameters['b' + str(l)]\n",
    "        \n",
    "        z = W @ a_prev + b\n",
    "        a = sigmoid(z)\n",
    "\n",
    "        cache['z' + str(l)] = z\n",
    "        cache['a' + str(l)] = a\n",
    "                \n",
    "    return a, cache"
   ]
  },
  {
   "cell_type": "code",
   "execution_count": 6,
   "metadata": {},
   "outputs": [],
   "source": [
    "# 테스트 데이터에서 예측값들의 성능을 계산하는 함수\n",
    "\n",
    "def compute_accuracy(x_val, y_val, parameters):\n",
    "    predictions = []\n",
    "\n",
    "    for x, y in zip(x_val, y_val):\n",
    "        output, _ = feed_forward(x, parameters)\n",
    "        pred = np.argmax(output)\n",
    "        predictions.append(pred == np.argmax(y))\n",
    "\n",
    "    return np.mean(predictions)"
   ]
  },
  {
   "cell_type": "code",
   "execution_count": 7,
   "metadata": {},
   "outputs": [],
   "source": [
    "# 학습 데이터에서 현재 모델의 손실을 계산하는 함수\n",
    "\n",
    "def compute_loss(x_val, y_val, parameters):\n",
    "    loss = 0\n",
    "    \n",
    "    for x, y in zip(x_val, y_val):\n",
    "        output, _ = feed_forward(x, parameters)\n",
    "        loss += np.mean(0.5 * (output - y)**2) / 2\n",
    "        \n",
    "    return loss / len(x_val)"
   ]
  },
  {
   "cell_type": "code",
   "execution_count": 8,
   "metadata": {},
   "outputs": [],
   "source": [
    "# 역전파 함수\n",
    "\n",
    "def back_prop(prediction, y, cache, parameters):\n",
    "    \n",
    "    # 편미분한 모든 가중치와 평향 값들을 저장하고 있는 파이썬 사전 gradients\n",
    "    gradients = {}\n",
    "    L = len(cache) // 2\n",
    "    da = (prediction - y) / y.shape[0]\n",
    "    \n",
    "    for layer in range(L, 0, -1):\n",
    "        # 역전파 행렬 연산을 사용해서 각 요소에 대한 편미분 계산\n",
    "        \"\"\" db[l] = sig'(z[l]) * da[l] (요소별 곱)\n",
    "            dW[l] = db[l] * a[l-1] (벡터 외적 곱)\n",
    "            da[l-1] = W[l]^T * db[l] (행렬 곱) \"\"\"\n",
    "        db = d_sigmoid(cache['z' + str(layer)]) * da\n",
    "        dW = np.outer(db, cache['a' + str(layer-1)])\n",
    "        da = parameters['W' + str(layer)].T @ db\n",
    "        \n",
    "        # 계산한 편미분 값들을 저장\n",
    "        gradients['dW' + str(layer)] = dW\n",
    "        gradients['db' + str(layer)] = db\n",
    "    \n",
    "    # 계산한 편미분 값들 리턴\n",
    "    return gradients"
   ]
  },
  {
   "cell_type": "code",
   "execution_count": 9,
   "metadata": {},
   "outputs": [],
   "source": [
    "# 계산한 경사로 가중치와 편향을 업데이트 하는 함수\n",
    "\n",
    "def update(parameters, gradients, alpha, m):\n",
    "    L = len(parameters) // 2\n",
    "    \n",
    "    for layer in range(1, L+1):\n",
    "        parameters['W'+str(layer)] -= alpha * gradients['dW'+str(layer)] / m\n",
    "        parameters['b'+str(layer)] -= alpha * gradients['db'+str(layer)] / m\n",
    "    \n",
    "    return parameters"
   ]
  },
  {
   "cell_type": "code",
   "execution_count": 10,
   "metadata": {},
   "outputs": [],
   "source": [
    "# 신경망을 학습시키는 함수\n",
    "\n",
    "def train_nn(X_train, Y_train, X_test, Y_test, neurons_per_layer, epoch, alpha):\n",
    "    parameters = initialize_parameters(neurons_per_layer)\n",
    "    loss_list = []\n",
    "    m = X_train.shape[0]\n",
    "    \n",
    "    # epoch 번 경사 하강을 한다\n",
    "    for i in range(epoch):\n",
    "        parameters_copy = parameters.copy()\n",
    "        \n",
    "        # 모든 이미지에 대해서 경사 계산 후 평균 계산\n",
    "        for x, y in zip(X_train, Y_train):\n",
    "            prediction, cache = feed_forward(x, parameters)\n",
    "            gradients = back_prop(prediction, y, cache, parameters)\n",
    "            parameters_copy = update(parameters_copy, gradients, alpha, m)\n",
    "        \n",
    "        # 가중치와 편향 실제로 업데이트\n",
    "        parameters = parameters_copy\n",
    "        loss_list.append(compute_loss(X_train, Y_train, parameters))\n",
    "        print('{}번째 경사 하강, 테스트 셋에서 성능: {}'.format(i+1, round(compute_accuracy(X_test, Y_test, parameters), 3)))     \n",
    "            \n",
    "    return loss_list, parameters"
   ]
  },
  {
   "cell_type": "code",
   "execution_count": 11,
   "metadata": {},
   "outputs": [
    {
     "name": "stdout",
     "output_type": "stream",
     "text": [
      "1번째 경사 하강, 테스트 셋에서 성능: 0.1\n",
      "2번째 경사 하강, 테스트 셋에서 성능: 0.22\n",
      "3번째 경사 하강, 테스트 셋에서 성능: 0.44\n",
      "4번째 경사 하강, 테스트 셋에서 성능: 0.52\n",
      "5번째 경사 하강, 테스트 셋에서 성능: 0.58\n",
      "6번째 경사 하강, 테스트 셋에서 성능: 0.62\n",
      "7번째 경사 하강, 테스트 셋에서 성능: 0.62\n",
      "8번째 경사 하강, 테스트 셋에서 성능: 0.62\n",
      "9번째 경사 하강, 테스트 셋에서 성능: 0.62\n",
      "10번째 경사 하강, 테스트 셋에서 성능: 0.64\n",
      "11번째 경사 하강, 테스트 셋에서 성능: 0.72\n",
      "12번째 경사 하강, 테스트 셋에서 성능: 0.74\n",
      "13번째 경사 하강, 테스트 셋에서 성능: 0.76\n",
      "14번째 경사 하강, 테스트 셋에서 성능: 0.78\n",
      "15번째 경사 하강, 테스트 셋에서 성능: 0.8\n",
      "16번째 경사 하강, 테스트 셋에서 성능: 0.8\n",
      "17번째 경사 하강, 테스트 셋에서 성능: 0.8\n",
      "18번째 경사 하강, 테스트 셋에서 성능: 0.82\n",
      "19번째 경사 하강, 테스트 셋에서 성능: 0.82\n",
      "20번째 경사 하강, 테스트 셋에서 성능: 0.82\n",
      "21번째 경사 하강, 테스트 셋에서 성능: 0.82\n",
      "22번째 경사 하강, 테스트 셋에서 성능: 0.82\n",
      "23번째 경사 하강, 테스트 셋에서 성능: 0.82\n",
      "24번째 경사 하강, 테스트 셋에서 성능: 0.82\n",
      "25번째 경사 하강, 테스트 셋에서 성능: 0.82\n"
     ]
    }
   ],
   "source": [
    "neurons_per_layer = [784, 128, 64, 10]\n",
    "parameters = initialize_parameters(neurons_per_layer)\n",
    "\n",
    "# 경사 하강 25번 진행\n",
    "loss_list, parameters = train_nn(X_train, Y_train, X_test, Y_test, neurons_per_layer, 25, 300)"
   ]
  },
  {
   "cell_type": "code",
   "execution_count": 12,
   "metadata": {},
   "outputs": [
    {
     "data": {
      "image/png": "[encoded data removed]",
      "text/plain": [
       "<Figure size 432x288 with 1 Axes>"
      ]
     },
     "metadata": {
      "needs_background": "light"
     },
     "output_type": "display_data"
    }
   ],
   "source": [
    "# 줄어드는 손실함수의 시각화\n",
    "plt.plot(loss_list)\n",
    "plt.show()"
   ]
  }
 ],
 "metadata": {
  "kernelspec": {
   "display_name": "Python 3",
   "language": "python",
   "name": "python3"
  },
  "language_info": {
   "codemirror_mode": {
    "name": "ipython",
    "version": 3
   },
   "file_extension": ".py",
   "mimetype": "text/x-python",
   "name": "python",
   "nbconvert_exporter": "python",
   "pygments_lexer": "ipython3",
   "version": "3.8.5"
  }
 },
 "nbformat": 4,
 "nbformat_minor": 4
}
