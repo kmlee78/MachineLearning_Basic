{
 "cells": [
  {
   "cell_type": "code",
   "execution_count": null,
   "metadata": {},
   "outputs": [],
   "source": [
    "\"\"\"\n",
    "(차원 축소)\n",
    "PCA: 데이터에 가장 가까운 d개의 초평면을 정의한 다음 데이터의 분산이 최대가 되도록\n",
    "그 평면에 투영시켜 데이터셋의 차원을 d차원으로 축소시킨다.\n",
    "\"\"\"\n",
    "\n",
    "from sklearn.decomposition import PCA\n",
    "\n",
    "# 2차원으로 줄이기\n",
    "pca = PCA(n_compoents=2)\n",
    "X2D = pca.fit_transform(X)\n",
    "\n",
    "# 보존하려는 분산의 비율을 n_components 파라미터로 설정할 수도 있다.\n",
    "pca = PCA(n_components=0.95)\n",
    "X_reduced = pca.fit_transform(X_train)\n",
    "\n",
    "# 압축 후 복원. MNIST의 데이터로 784 -> 154 ->784차원으로 변환\n",
    "pca = PCA(n_components=154)\n",
    "X_reduced = pca.fit_transform(X_train)\n",
    "X_recovered = pca.inverse_transform(X_reduced)\n",
    "\n",
    "# 점진적 PCA: 데이터의 크기가 너무 클 때, 훈련 세트를 미니 배치로 나눈 뒤 PCA 적용\n",
    "from sklearn.decomposition import IncrementalPCA\n",
    "n_batches = 100\n",
    "inc_pca = IncrementalPCA(n_components=154)\n",
    "for X_batch in np.array_split(X_trian, n_batches):\n",
    "    inc_pca.partial_fix(X_batch)\n",
    "X_reduced = inc_pca.transform(X_train)"
   ]
  },
  {
   "cell_type": "code",
   "execution_count": 1,
   "metadata": {},
   "outputs": [],
   "source": [
    "from sklearn import datasets\n",
    "\n",
    "iris = datasets.load_iris()\n",
    "X = iris['data'][:, (0, 1, 2, 3)]   # 꽃잎의 특성\n",
    "y = iris['target']"
   ]
  },
  {
   "cell_type": "code",
   "execution_count": 2,
   "metadata": {},
   "outputs": [
    {
     "data": {
      "text/plain": [
       "array([[5.9016129 , 2.7483871 , 4.39354839, 1.43387097],\n",
       "       [5.006     , 3.428     , 1.462     , 0.246     ],\n",
       "       [6.85      , 3.07368421, 5.74210526, 2.07105263]])"
      ]
     },
     "execution_count": 2,
     "metadata": {},
     "output_type": "execute_result"
    }
   ],
   "source": [
    "\"\"\"군집: k-평균\"\"\"\n",
    "\n",
    "from sklearn.cluster import KMeans\n",
    "\n",
    "# 알고리즘이 찾을 클러스터 개수 k. cluster_centers_로 k수 만큼 센트로이드의 좌표가 출력됨\n",
    "k = 3\n",
    "kmeans = KMeans(n_clusters=k)\n",
    "y_pred = kmeans.fit_predict(X)\n",
    "kmeans.cluster_centers_"
   ]
  },
  {
   "cell_type": "code",
   "execution_count": 7,
   "metadata": {},
   "outputs": [
    {
     "data": {
      "text/plain": [
       "78.85566582597727"
      ]
     },
     "execution_count": 7,
     "metadata": {},
     "output_type": "execute_result"
    }
   ],
   "source": [
    "# 센트로이드 위치 대충 알때 초기화할 수 있는 방법\n",
    "import numpy as np\n",
    "\n",
    "good_init = np.array([[5,3,4,1], [5,3,1,0], [7,3,6,2]])\n",
    "kmeans = KMeans(n_clusters=3, init=good_init, n_init=1)   # n_init=1로 설정\n",
    "y_pred = kmeans.fit_predict(X)\n",
    "kmeans.inertia_   # 이너셔: 가장 가까운 센트로이드 사이의 평균 제곱 거리"
   ]
  },
  {
   "cell_type": "code",
   "execution_count": null,
   "metadata": {},
   "outputs": [],
   "source": []
  }
 ],
 "metadata": {
  "kernelspec": {
   "display_name": "Python [conda env:tens_2]",
   "language": "python",
   "name": "conda-env-tens_2-py"
  },
  "language_info": {
   "codemirror_mode": {
    "name": "ipython",
    "version": 3
   },
   "file_extension": ".py",
   "mimetype": "text/x-python",
   "name": "python",
   "nbconvert_exporter": "python",
   "pygments_lexer": "ipython3",
   "version": "3.7.9"
  }
 },
 "nbformat": 4,
 "nbformat_minor": 4
}
