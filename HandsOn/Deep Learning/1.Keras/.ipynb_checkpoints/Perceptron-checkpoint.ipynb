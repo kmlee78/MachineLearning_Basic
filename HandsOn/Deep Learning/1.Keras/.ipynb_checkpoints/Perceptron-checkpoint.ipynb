{
 "cells": [
  {
   "cell_type": "code",
   "execution_count": 8,
   "metadata": {},
   "outputs": [],
   "source": [
    "import tensorflow as rf\n",
    "from tensorflow import keras"
   ]
  },
  {
   "cell_type": "code",
   "execution_count": 9,
   "metadata": {},
   "outputs": [
    {
     "name": "stdout",
     "output_type": "stream",
     "text": [
      "(60000, 28, 28)\n",
      "(60000,)\n"
     ]
    }
   ],
   "source": [
    "# 데이터 가져오기\n",
    "fashion_mnist = keras.datasets.fashion_mnist\n",
    "(X_train_full, y_train_full), (X_test, y_test) = fashion_mnist.load_data()\n",
    "\n",
    "print(X_train_full.shape)\n",
    "print(y_train_full.shape)"
   ]
  },
  {
   "cell_type": "code",
   "execution_count": 10,
   "metadata": {},
   "outputs": [],
   "source": [
    "# 검증 세트 만들고 픽셀 강도 0~1로 조정. 레이블 이름도 정해주기\n",
    "X_valid, X_train = X_train_full[:5000]/255.0, X_train_full[5000:]/255.0\n",
    "y_valid, y_train = y_train_full[:5000]/255.0, y_train_full[5000:]/255.0\n",
    "X_test = X_test/255.0\n",
    "\n",
    "class_names = ['T-shirt/top', 'Trouser', 'Pullover', 'Dress', 'Coat', 'Sandal', 'Shirt', 'Sneaker', 'Bag', 'Ankle boot']"
   ]
  },
  {
   "cell_type": "code",
   "execution_count": 14,
   "metadata": {},
   "outputs": [
    {
     "name": "stdout",
     "output_type": "stream",
     "text": [
      "(784, 300) (300,)\n"
     ]
    }
   ],
   "source": [
    "# 시퀀셜 모델 만들기\n",
    "model = keras.models.Sequential()\n",
    "model.add(keras.layers.Flatten(input_shape=[28, 28]))   # 첫번째 입력층. Flatten층은 입력이미지를 1D로 변환. 따라서 input_shape 파라미터 지정해야 함\n",
    "model.add(keras.layers.Dense(300, activation='relu'))   # 300개의 뉴런을 가진 Dense 은닉층 추가. relu 활성화함수\n",
    "model.add(keras.layers.Dense(100, activation='relu'))   # 100개의 뉴런을 가진 Dense 은닉층 추가.\n",
    "model.add(keras.layers.Dense(10, activation='softmax'))   # 10개의 뉴런을 가진 Dense 출력층 추가. 소프트맥스 활성화함수\n",
    "\n",
    "# 이렇게도 가능\n",
    "\"\"\"\n",
    "model = keras.models.Sequential([\n",
    "    keras.layers.Flatten(input_shape=[28, 28]),  \n",
    "    keras.layers.Dense(300, activation='relu'),  \n",
    "    keras.layers.Dense(100, activation='relu'),  \n",
    "    keras.layers.Dense(10, activation='softmax')\n",
    "    ])\n",
    "\"\"\"\n",
    "\n",
    "# model.summary() -> 모델의 모든 층의 이름, 크기, 파라미터 개수 등 출력\n",
    "\n",
    "# 각 층 접근 후 파라미터 얻기\n",
    "hidden1 = model.layers[1]\n",
    "weights, biases = hidden1.get_weights()\n",
    "print(weights.shape, biases.shape)"
   ]
  },
  {
   "cell_type": "code",
   "execution_count": 15,
   "metadata": {},
   "outputs": [
    {
     "name": "stdout",
     "output_type": "stream",
     "text": [
      "Model: \"sequential_2\"\n",
      "_________________________________________________________________\n",
      "Layer (type)                 Output Shape              Param #   \n",
      "=================================================================\n",
      "flatten_2 (Flatten)          (None, 784)               0         \n",
      "_________________________________________________________________\n",
      "dense_6 (Dense)              (None, 300)               235500    \n",
      "_________________________________________________________________\n",
      "dense_7 (Dense)              (None, 100)               30100     \n",
      "_________________________________________________________________\n",
      "dense_8 (Dense)              (None, 10)                1010      \n",
      "=================================================================\n",
      "Total params: 266,610\n",
      "Trainable params: 266,610\n",
      "Non-trainable params: 0\n",
      "_________________________________________________________________\n"
     ]
    }
   ],
   "source": [
    "model.summary()"
   ]
  },
  {
   "cell_type": "code",
   "execution_count": null,
   "metadata": {},
   "outputs": [
    {
     "name": "stdout",
     "output_type": "stream",
     "text": [
      "Train on 55000 samples, validate on 5000 samples\n",
      "Epoch 1/10\n",
      "55000/55000 [==============================] - 10s 190us/sample - loss: 0.0177 - accuracy: 0.1007 - val_loss: 0.0011 - val_accuracy: 0.0914\n",
      "Epoch 2/10\n",
      "55000/55000 [==============================] - 9s 168us/sample - loss: 7.7211e-04 - accuracy: 0.1008 - val_loss: 5.3764e-04 - val_accuracy: 0.0914\n",
      "Epoch 3/10\n",
      "55000/55000 [==============================] - 10s 188us/sample - loss: 4.2272e-04 - accuracy: 0.1008 - val_loss: 3.5056e-04 - val_accuracy: 0.0914\n",
      "Epoch 4/10\n",
      "55000/55000 [==============================] - 10s 176us/sample - loss: 2.8866e-04 - accuracy: 0.1008 - val_loss: 2.5964e-04 - val_accuracy: 0.0914\n",
      "Epoch 5/10\n",
      "55000/55000 [==============================] - 10s 185us/sample - loss: 2.1807e-04 - accuracy: 0.1008 - val_loss: 2.0576e-04 - val_accuracy: 0.0914\n",
      "Epoch 6/10\n",
      "32256/55000 [================>.............] - ETA: 3s - loss: 1.9212e-04 - accuracy: 0.1023"
     ]
    }
   ],
   "source": [
    "# 모델 컴파일, 훈련, 평가\n",
    "model.compile(loss='sparse_categorical_crossentropy',  # 레이블이 0~9 중 하나로 배타적이니까 이걸 사용\n",
    "             optimizer='sgd',  # 기본 확률적 경사 하강법(역전파 알고리즘)\n",
    "             metrics=['accuracy'])  # 분류기 이므로 정확도를 측정하기 위해 이걸 넣어줌\n",
    "\n",
    "history = model.fit(X_train, y_train, epochs=10, validation_data=(X_valid, y_valid))"
   ]
  },
  {
   "cell_type": "code",
   "execution_count": null,
   "metadata": {},
   "outputs": [],
   "source": []
  }
 ],
 "metadata": {
  "kernelspec": {
   "display_name": "Python [conda env:tens_2]",
   "language": "python",
   "name": "conda-env-tens_2-py"
  },
  "language_info": {
   "codemirror_mode": {
    "name": "ipython",
    "version": 3
   },
   "file_extension": ".py",
   "mimetype": "text/x-python",
   "name": "python",
   "nbconvert_exporter": "python",
   "pygments_lexer": "ipython3",
   "version": "3.7.9"
  }
 },
 "nbformat": 4,
 "nbformat_minor": 4
}
