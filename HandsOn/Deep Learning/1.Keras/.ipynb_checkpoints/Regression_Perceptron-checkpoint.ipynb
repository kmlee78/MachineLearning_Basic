{
 "cells": [
  {
   "cell_type": "code",
   "execution_count": 5,
   "metadata": {},
   "outputs": [
    {
     "data": {
      "text/plain": [
       "(11610, 8)"
      ]
     },
     "execution_count": 5,
     "metadata": {},
     "output_type": "execute_result"
    }
   ],
   "source": [
    "from tensorflow import keras\n",
    "from sklearn.datasets import fetch_california_housing\n",
    "from sklearn.model_selection import train_test_split\n",
    "from sklearn.preprocessing import StandardScaler\n",
    "\n",
    "# 데이터 가져오고 전처리\n",
    "housing = fetch_california_housing()\n",
    "X_train_full, X_test, y_train_full, y_test = train_test_split(housing.data, housing.target)\n",
    "X_train, X_valid, y_train, y_valid = train_test_split(X_train_full, y_train_full)\n",
    "\n",
    "scaler = StandardScaler()\n",
    "# 갑작스럽지만 fit_transform은 평균 표준편차를 구하고 그거에 따라 정규화 하는거고 transform은 앞에서 구한 평균 표준편차에 따라 정규화만 함\n",
    "X_train = scaler.fit_transform(X_train)\n",
    "X_valid = scaler.transform(X_valid)\n",
    "X_test = scaler.transform(X_test)\n",
    "X_train.shape"
   ]
  },
  {
   "cell_type": "code",
   "execution_count": 8,
   "metadata": {},
   "outputs": [
    {
     "name": "stdout",
     "output_type": "stream",
     "text": [
      "Train on 11610 samples, validate on 3870 samples\n",
      "Epoch 1/10\n",
      "11610/11610 [==============================] - 1s 56us/sample - loss: 1.0287 - val_loss: 0.5323\n",
      "Epoch 2/10\n",
      "11610/11610 [==============================] - 0s 35us/sample - loss: 0.5080 - val_loss: 0.4612\n",
      "Epoch 3/10\n",
      "11610/11610 [==============================] - 0s 35us/sample - loss: 0.4695 - val_loss: 0.4380\n",
      "Epoch 4/10\n",
      "11610/11610 [==============================] - 0s 35us/sample - loss: 0.4493 - val_loss: 0.4271\n",
      "Epoch 5/10\n",
      "11610/11610 [==============================] - 0s 38us/sample - loss: 0.4628 - val_loss: 0.4169\n",
      "Epoch 6/10\n",
      "11610/11610 [==============================] - 0s 32us/sample - loss: 0.4254 - val_loss: 0.4025\n",
      "Epoch 7/10\n",
      "11610/11610 [==============================] - 0s 34us/sample - loss: 0.4155 - val_loss: 0.3967\n",
      "Epoch 8/10\n",
      "11610/11610 [==============================] - 0s 36us/sample - loss: 0.4052 - val_loss: 0.3874\n",
      "Epoch 9/10\n",
      "11610/11610 [==============================] - 0s 38us/sample - loss: 0.4005 - val_loss: 0.3821\n",
      "Epoch 10/10\n",
      "11610/11610 [==============================] - 0s 36us/sample - loss: 0.3959 - val_loss: 0.3792\n",
      "5160/5160 [==============================] - 0s 18us/sample - loss: 0.3943\n",
      "0.39430447789125667\n",
      "[4.613 0.791 2.218]\n"
     ]
    },
    {
     "data": {
      "text/plain": [
       "array([[3.7715206],\n",
       "       [1.0900064],\n",
       "       [2.6873486]], dtype=float32)"
      ]
     },
     "execution_count": 8,
     "metadata": {},
     "output_type": "execute_result"
    }
   ],
   "source": [
    "# 신경망 구축 및 모델 학습\n",
    "model = keras.models.Sequential([\n",
    "    keras.layers.Dense(30, activation='relu', input_shape=X_train.shape[1:]),\n",
    "    keras.layers.Dense(1)\n",
    "])\n",
    "\n",
    "model.compile(loss='mean_squared_error', optimizer='sgd')\n",
    "history = model.fit(X_train, y_train, epochs=10, validation_data=(X_valid, y_valid))\n",
    "\n",
    "mse_test = model.evaluate(X_test, y_test)\n",
    "X_new = X_test[:3]  # new샘플\n",
    "print(mse_test)\n",
    "print(y_test[:3])\n",
    "model.predict(X_new)"
   ]
  },
  {
   "cell_type": "code",
   "execution_count": 12,
   "metadata": {},
   "outputs": [],
   "source": [
    "# 복잡한 모델: 일부 특성은 더 짧은 경로로 가게\n",
    "\n",
    "input_A = keras.layers.Input(shape=[5], name='wide_input')\n",
    "input_B = keras.layers.Input(shape=[6], name='deep_input')\n",
    "hidden1 = keras.layers.Dense(30, activation='relu')(input_B) # input_B에서 hidden1층으로 연결한다는 소리\n",
    "hidden2 = keras.layers.Dense(30, activation='relu')(hidden1)  \n",
    "concat = keras.layers.concatenate([input_A, hidden2])  # input_A랑 hidden2층이랑 연결\n",
    "output = keras.layers.Dense(1)(concat)  # 결국 다 이 출력층으로 연결될 수 있게\n",
    "model = keras.Model(inputs=[input_A, input_B], outputs=[output])"
   ]
  },
  {
   "cell_type": "code",
   "execution_count": 13,
   "metadata": {},
   "outputs": [
    {
     "name": "stdout",
     "output_type": "stream",
     "text": [
      "Train on 11610 samples, validate on 3870 samples\n",
      "Epoch 1/10\n",
      "11610/11610 [==============================] - 1s 69us/sample - loss: 1.7918 - val_loss: 0.8746\n",
      "Epoch 2/10\n",
      "11610/11610 [==============================] - 0s 43us/sample - loss: 0.7865 - val_loss: 0.6886\n",
      "Epoch 3/10\n",
      "11610/11610 [==============================] - 0s 41us/sample - loss: 0.6762 - val_loss: 0.6182\n",
      "Epoch 4/10\n",
      "11610/11610 [==============================] - 0s 41us/sample - loss: 0.6232 - val_loss: 0.5783\n",
      "Epoch 5/10\n",
      "11610/11610 [==============================] - 0s 39us/sample - loss: 0.5888 - val_loss: 0.5518\n",
      "Epoch 6/10\n",
      "11610/11610 [==============================] - 0s 40us/sample - loss: 0.5635 - val_loss: 0.5297\n",
      "Epoch 7/10\n",
      "11610/11610 [==============================] - 0s 40us/sample - loss: 0.5438 - val_loss: 0.5139\n",
      "Epoch 8/10\n",
      "11610/11610 [==============================] - 0s 43us/sample - loss: 0.5303 - val_loss: 0.5034\n",
      "Epoch 9/10\n",
      "11610/11610 [==============================] - 0s 38us/sample - loss: 0.5182 - val_loss: 0.4932\n",
      "Epoch 10/10\n",
      "11610/11610 [==============================] - 1s 44us/sample - loss: 0.5100 - val_loss: 0.4857\n",
      "5160/5160 [==============================] - 0s 23us/sample - loss: 0.4895\n",
      "0.4895430885544119\n"
     ]
    },
    {
     "data": {
      "text/plain": [
       "array([[4.1148405],\n",
       "       [1.1551174],\n",
       "       [2.6406846]], dtype=float32)"
      ]
     },
     "execution_count": 13,
     "metadata": {},
     "output_type": "execute_result"
    }
   ],
   "source": [
    "model.compile(loss='mse', optimizer=keras.optimizers.SGD(lr=1e-3))  # optimizer은 경사하강법(학습률 설정)\n",
    "\n",
    "X_train_A, X_train_B = X_train[:, :5], X_train[:, 2:]\n",
    "X_valid_A, X_valid_B = X_valid[:, :5], X_valid[:, 2:]\n",
    "X_test_A, X_test_B = X_test[:, :5], X_test[:, 2:]\n",
    "X_new_A, X_new_B = X_test_A[:3], X_test_B[:3]\n",
    "\n",
    "history = model.fit((X_train_A, X_train_B), y_train, epochs=10, validation_data=((X_valid_A, X_valid_B), y_valid))\n",
    "mse_test = model.evaluate((X_test_A, X_test_B), y_test)\n",
    "print(mse_test)\n",
    "model.predict((X_new_A, X_new_B))"
   ]
  },
  {
   "cell_type": "code",
   "execution_count": 27,
   "metadata": {},
   "outputs": [],
   "source": [
    "# 위 코드를 서브클래싱 API로 만들어서 사용해보자\n",
    "\n",
    "class WideAndDeepModel(keras.Model):\n",
    "    def __init__(self, units=30, activation='relu', **kwargs):\n",
    "        super().__init__(**kwargs)\n",
    "        self.hidden1 = keras.layers.Dense(units, activation=activation) \n",
    "        self.hidden2 = keras.layers.Dense(units, activation=activation)\n",
    "        self.main_output = keras.layers.Dense(1)\n",
    "        \n",
    "    def call(self, inputs):\n",
    "        input_A, input_B = inputs\n",
    "        hidden1 = self.hidden1(input_B)\n",
    "        hidden2 = self.hidden2(hidden1)\n",
    "        concat = keras.layers.concatenate([input_A, hidden2])\n",
    "        main_output = self.main_output(concat)\n",
    "        return main_output\n",
    "    \n",
    "model = WideAndDeepModel()"
   ]
  },
  {
   "cell_type": "code",
   "execution_count": 28,
   "metadata": {},
   "outputs": [
    {
     "name": "stdout",
     "output_type": "stream",
     "text": [
      "Train on 11610 samples, validate on 3870 samples\n",
      "Epoch 1/10\n",
      "11610/11610 [==============================] - 1s 62us/sample - loss: 2.0689 - val_loss: 0.9131\n",
      "Epoch 2/10\n",
      "11610/11610 [==============================] - 0s 41us/sample - loss: 0.8090 - val_loss: 0.7040\n",
      "Epoch 3/10\n",
      "11610/11610 [==============================] - 1s 51us/sample - loss: 0.6952 - val_loss: 0.6433\n",
      "Epoch 4/10\n",
      "11610/11610 [==============================] - 1s 44us/sample - loss: 0.6496 - val_loss: 0.6089\n",
      "Epoch 5/10\n",
      "11610/11610 [==============================] - 0s 39us/sample - loss: 0.6177 - val_loss: 0.5818\n",
      "Epoch 6/10\n",
      "11610/11610 [==============================] - 0s 34us/sample - loss: 0.5924 - val_loss: 0.5597\n",
      "Epoch 7/10\n",
      "11610/11610 [==============================] - 0s 36us/sample - loss: 0.5703 - val_loss: 0.5390\n",
      "Epoch 8/10\n",
      "11610/11610 [==============================] - 0s 38us/sample - loss: 0.5527 - val_loss: 0.5240\n",
      "Epoch 9/10\n",
      "11610/11610 [==============================] - 0s 38us/sample - loss: 0.5375 - val_loss: 0.5105\n",
      "Epoch 10/10\n",
      "11610/11610 [==============================] - 0s 38us/sample - loss: 0.5252 - val_loss: 0.5103\n",
      "Model: \"wide_and_deep_model_5\"\n",
      "_________________________________________________________________\n",
      "Layer (type)                 Output Shape              Param #   \n",
      "=================================================================\n",
      "dense_33 (Dense)             multiple                  210       \n",
      "_________________________________________________________________\n",
      "dense_34 (Dense)             multiple                  930       \n",
      "_________________________________________________________________\n",
      "dense_35 (Dense)             multiple                  36        \n",
      "=================================================================\n",
      "Total params: 1,176\n",
      "Trainable params: 1,176\n",
      "Non-trainable params: 0\n",
      "_________________________________________________________________\n"
     ]
    }
   ],
   "source": [
    "model.compile(loss='mse', optimizer=keras.optimizers.SGD(lr=1e-3))\n",
    "history = model.fit((X_train_A, X_train_B), y_train, epochs=10, validation_data=((X_valid_A, X_valid_B), y_valid))\n",
    "model.summary()"
   ]
  },
  {
   "cell_type": "code",
   "execution_count": 30,
   "metadata": {},
   "outputs": [
    {
     "data": {
      "image/png": "[encoded data removed]",
      "text/plain": [
       "<Figure size 576x360 with 1 Axes>"
      ]
     },
     "metadata": {
      "needs_background": "light"
     },
     "output_type": "display_data"
    }
   ],
   "source": [
    "# 시각화\n",
    "import pandas as pd\n",
    "import matplotlib.pyplot as plt\n",
    "\n",
    "pd.DataFrame(history.history).plot(figsize=(8, 5))  \n",
    "plt.grid(True) \n",
    "plt.xlabel('epochs')\n",
    "plt.ylabel('loss')\n",
    "plt.show()"
   ]
  },
  {
   "cell_type": "code",
   "execution_count": null,
   "metadata": {},
   "outputs": [],
   "source": []
  }
 ],
 "metadata": {
  "kernelspec": {
   "display_name": "Python [conda env:tens_2]",
   "language": "python",
   "name": "conda-env-tens_2-py"
  },
  "language_info": {
   "codemirror_mode": {
    "name": "ipython",
    "version": 3
   },
   "file_extension": ".py",
   "mimetype": "text/x-python",
   "name": "python",
   "nbconvert_exporter": "python",
   "pygments_lexer": "ipython3",
   "version": "3.7.9"
  }
 },
 "nbformat": 4,
 "nbformat_minor": 4
}
