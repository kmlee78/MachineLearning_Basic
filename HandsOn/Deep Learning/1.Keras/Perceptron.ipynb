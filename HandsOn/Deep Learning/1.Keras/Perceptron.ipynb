{
 "cells": [
  {
   "cell_type": "code",
   "execution_count": 18,
   "metadata": {},
   "outputs": [],
   "source": [
    "import tensorflow as tf\n",
    "from tensorflow import keras"
   ]
  },
  {
   "cell_type": "code",
   "execution_count": 19,
   "metadata": {},
   "outputs": [
    {
     "name": "stdout",
     "output_type": "stream",
     "text": [
      "(60000, 28, 28)\n",
      "(60000,)\n"
     ]
    }
   ],
   "source": [
    "# 데이터 가져오기\n",
    "fashion_mnist = keras.datasets.fashion_mnist\n",
    "(X_train_full, y_train_full), (X_test, y_test) = fashion_mnist.load_data()\n",
    "\n",
    "print(X_train_full.shape)\n",
    "print(y_train_full.shape)"
   ]
  },
  {
   "cell_type": "code",
   "execution_count": 20,
   "metadata": {},
   "outputs": [],
   "source": [
    "# 검증 세트 만들고 픽셀 강도 0~1로 조정. 레이블 이름도 정해주기\n",
    "X_valid, X_train = X_train_full[:5000]/255.0, X_train_full[5000:]/255.0\n",
    "y_valid, y_train = y_train_full[:5000]/255.0, y_train_full[5000:]/255.0\n",
    "X_test = X_test/255.0\n",
    "\n",
    "class_names = ['T-shirt/top', 'Trouser', 'Pullover', 'Dress', 'Coat', 'Sandal', 'Shirt', 'Sneaker', 'Bag', 'Ankle boot']"
   ]
  },
  {
   "cell_type": "code",
   "execution_count": 24,
   "metadata": {},
   "outputs": [
    {
     "name": "stdout",
     "output_type": "stream",
     "text": [
      "(784, 300) (300,)\n"
     ]
    }
   ],
   "source": [
    "# 시퀀셜 모델 만들기\n",
    "model = keras.models.Sequential()\n",
    "model.add(keras.layers.Flatten(input_shape=[28, 28]))   # 첫번째 입력층. Flatten층은 입력이미지를 1D로 변환. 따라서 input_shape 파라미터 지정해야 함\n",
    "model.add(keras.layers.Dense(300, activation='relu'))   # 300개의 뉴런을 가진 Dense 은닉층 추가. relu 활성화함수\n",
    "model.add(keras.layers.Dense(100, activation='relu'))   # 100개의 뉴런을 가진 Dense 은닉층 추가.\n",
    "model.add(keras.layers.Dense(10, activation='softmax'))   # 10개의 뉴런을 가진 Dense 출력층 추가. 소프트맥스 활성화함수\n",
    "\n",
    "# 이렇게도 가능\n",
    "'''\n",
    "model = keras.models.Sequential([\n",
    "    keras.layers.Flatten(input_shape=[28, 28]),  \n",
    "    keras.layers.Dense(300, activation='relu'),  \n",
    "    keras.layers.Dense(100, activation='relu'),  \n",
    "    keras.layers.Dense(10, activation='softmax')\n",
    "    ])\n",
    "'''\n",
    "\n",
    "# model.summary() -> 모델의 모든 층의 이름, 크기, 파라미터 개수 등 출력\n",
    "\n",
    "# 각 층 접근 후 파라미터 얻기\n",
    "hidden1 = model.layers[1]\n",
    "weights, biases = hidden1.get_weights()\n",
    "print(weights.shape, biases.shape)"
   ]
  },
  {
   "cell_type": "code",
   "execution_count": 25,
   "metadata": {},
   "outputs": [
    {
     "name": "stdout",
     "output_type": "stream",
     "text": [
      "Model: \"sequential_4\"\n",
      "_________________________________________________________________\n",
      "Layer (type)                 Output Shape              Param #   \n",
      "=================================================================\n",
      "flatten_4 (Flatten)          (None, 784)               0         \n",
      "_________________________________________________________________\n",
      "dense_12 (Dense)             (None, 300)               235500    \n",
      "_________________________________________________________________\n",
      "dense_13 (Dense)             (None, 100)               30100     \n",
      "_________________________________________________________________\n",
      "dense_14 (Dense)             (None, 10)                1010      \n",
      "=================================================================\n",
      "Total params: 266,610\n",
      "Trainable params: 266,610\n",
      "Non-trainable params: 0\n",
      "_________________________________________________________________\n"
     ]
    }
   ],
   "source": [
    "model.summary()"
   ]
  },
  {
   "cell_type": "code",
   "execution_count": 26,
   "metadata": {},
   "outputs": [
    {
     "name": "stdout",
     "output_type": "stream",
     "text": [
      "Train on 55000 samples, validate on 5000 samples\n",
      "Epoch 1/10\n",
      "55000/55000 [==============================] - 11s 197us/sample - loss: 0.0154 - accuracy: 0.1007 - val_loss: 0.0011 - val_accuracy: 0.0914\n",
      "Epoch 2/10\n",
      "55000/55000 [==============================] - 9s 171us/sample - loss: 7.5337e-04 - accuracy: 0.1008 - val_loss: 5.2064e-04 - val_accuracy: 0.0914\n",
      "Epoch 3/10\n",
      "55000/55000 [==============================] - 10s 175us/sample - loss: 4.1369e-04 - accuracy: 0.1008 - val_loss: 3.3925e-04 - val_accuracy: 0.0914\n",
      "Epoch 4/10\n",
      "55000/55000 [==============================] - 10s 178us/sample - loss: 2.8275e-04 - accuracy: 0.1008 - val_loss: 2.5094e-04 - val_accuracy: 0.0914\n",
      "Epoch 5/10\n",
      "55000/55000 [==============================] - 11s 193us/sample - loss: 2.1369e-04 - accuracy: 0.1008 - val_loss: 1.9886e-04 - val_accuracy: 0.0914\n",
      "Epoch 6/10\n",
      "55000/55000 [==============================] - 10s 189us/sample - loss: 1.7117e-04 - accuracy: 0.1008 - val_loss: 1.6449e-04 - val_accuracy: 0.0914\n",
      "Epoch 7/10\n",
      "55000/55000 [==============================] - 10s 189us/sample - loss: 1.4240e-04 - accuracy: 0.1008 - val_loss: 1.4015e-04 - val_accuracy: 0.0914\n",
      "Epoch 8/10\n",
      "55000/55000 [==============================] - 10s 184us/sample - loss: 1.2170e-04 - accuracy: 0.1008 - val_loss: 1.2201e-04 - val_accuracy: 0.0914\n",
      "Epoch 9/10\n",
      "55000/55000 [==============================] - 10s 188us/sample - loss: 1.0609e-04 - accuracy: 0.1008 - val_loss: 1.0799e-04 - val_accuracy: 0.0914\n",
      "Epoch 10/10\n",
      "55000/55000 [==============================] - 10s 191us/sample - loss: 9.3950e-05 - accuracy: 0.1008 - val_loss: 9.6823e-05 - val_accuracy: 0.0914\n"
     ]
    }
   ],
   "source": [
    "# 모델 컴파일, 훈련, 평가\n",
    "model.compile(loss='sparse_categorical_crossentropy',  # 레이블이 0~9 중 하나로 배타적이니까 이걸 사용\n",
    "             optimizer='sgd',  # 기본 확률적 경사 하강법(역전파 알고리즘)\n",
    "             metrics=['accuracy'])  # 분류기 이므로 정확도를 측정하기 위해 이걸 넣어줌\n",
    "\n",
    "history = model.fit(X_train, y_train, epochs=10, validation_data=(X_valid, y_valid))"
   ]
  },
  {
   "cell_type": "code",
   "execution_count": 27,
   "metadata": {},
   "outputs": [
    {
     "data": {
      "image/png": "[encoded data removed]",
      "text/plain": [
       "<Figure size 576x360 with 1 Axes>"
      ]
     },
     "metadata": {
      "needs_background": "light"
     },
     "output_type": "display_data"
    }
   ],
   "source": [
    "import pandas as pd\n",
    "import matplotlib.pyplot as plt\n",
    "\n",
    "pd.DataFrame(history.history).plot(figsize=(8, 5))  # 검증 세트에 대한 손실과 측정 지표를 담은 history.history\n",
    "plt.grid(True)\n",
    "plt.gca().set_ylim(0, 1)  # 수직축의 범위를 0~1사이로 설정\n",
    "plt.show()"
   ]
  },
  {
   "cell_type": "code",
   "execution_count": 30,
   "metadata": {},
   "outputs": [
    {
     "name": "stdout",
     "output_type": "stream",
     "text": [
      "[[1. 0. 0. 0. 0. 0. 0. 0. 0. 0.]\n",
      " [1. 0. 0. 0. 0. 0. 0. 0. 0. 0.]\n",
      " [1. 0. 0. 0. 0. 0. 0. 0. 0. 0.]]\n",
      "[0 0 0]\n"
     ]
    }
   ],
   "source": [
    "# 돌겠네 ㅅㅂ\n",
    "X_new = X_test[:3]\n",
    "y_proba = model.predict(X_new)\n",
    "print(y_proba.round(2))\n",
    "\n",
    "y_pred = model.predict_classes(X_new)\n",
    "print(y_pred)"
   ]
  },
  {
   "cell_type": "code",
   "execution_count": null,
   "metadata": {},
   "outputs": [],
   "source": []
  }
 ],
 "metadata": {
  "kernelspec": {
   "display_name": "Python [conda env:tens_2]",
   "language": "python",
   "name": "conda-env-tens_2-py"
  },
  "language_info": {
   "codemirror_mode": {
    "name": "ipython",
    "version": 3
   },
   "file_extension": ".py",
   "mimetype": "text/x-python",
   "name": "python",
   "nbconvert_exporter": "python",
   "pygments_lexer": "ipython3",
   "version": "3.7.9"
  }
 },
 "nbformat": 4,
 "nbformat_minor": 4
}
