{
 "cells": [
  {
   "cell_type": "code",
   "execution_count": null,
   "metadata": {},
   "outputs": [],
   "source": [
    "!git clone \"https://github.com/FinanceData/marcap.git\" marcap"
   ]
  },
  {
   "cell_type": "code",
   "execution_count": null,
   "metadata": {},
   "outputs": [],
   "source": [
    "def today_mc(symbol, today_year):\n",
    "    \"\"\"파라미터로 넘겨준 기업 코드의 오늘 기준 시가총액 리턴\"\"\"\n",
    "    \n",
    "    df = pd.read_csv('marcap/data/marcap-{}.csv.gz'.format(today_year), dtype={'Code':str}, parse_dates=['Date'])\n",
    "    mc = list(df[df['Code'] == symbol]['Marcap'])\n",
    "    if len(mc) != 0:\n",
    "        return mc[-1]\n",
    "    else:\n",
    "        return None"
   ]
  },
  {
   "cell_type": "code",
   "execution_count": null,
   "metadata": {},
   "outputs": [],
   "source": [
    "def to_float(str):\n",
    "    \"\"\"쉼표가 포함된 문자열을 float타입으로 변형\"\"\"\n",
    "    \n",
    "    if str is None:\n",
    "        return None\n",
    "    \n",
    "    result = ''\n",
    "    num_list = str.split(',')\n",
    "    for num in num_list:\n",
    "        result += num\n",
    "    return float(result)"
   ]
  },
  {
   "cell_type": "code",
   "execution_count": null,
   "metadata": {},
   "outputs": [],
   "source": [
    "def find_value(chart, name):\n",
    "    \"\"\"재무제표에서 해당 항목의 값을 리턴. 1차적으로 연결재무제표, 없으면 그냥 재무제표\"\"\"\n",
    "    \n",
    "    condition = (chart['fs_nm'] == '연결재무제표') & (chart['account_nm'] == name)\n",
    "    value = chart.loc[condition, 'thstrm_amount']\n",
    "    if len(value) == 0:\n",
    "        condition = (chart['fs_nm'] == '재무제표') & (chart['account_nm'] == name)\n",
    "        value = chart.loc[condition, 'thstrm_amount']\n",
    "    \n",
    "    if len(value) == 0:\n",
    "        return None\n",
    "    else:\n",
    "        return list(value)[0]"
   ]
  },
  {
   "cell_type": "code",
   "execution_count": null,
   "metadata": {},
   "outputs": [],
   "source": [
    "import FinanceDataReader as fdr\n",
    "import OpenDartReader\n",
    "import pandas as pd \n",
    "import numpy as np\n",
    "import datetime\n",
    "\n",
    "pd.set_option('display.max.columns', 50)\n",
    "\n",
    "api_key = '6ba1ec27f6281e7470d20ddef6b0000ddb901e31'\n",
    "dart = OpenDartReader(api_key)\n",
    "\n",
    "kospi = fdr.StockListing('KOSPI')\n",
    "kosdaq = fdr.StockListing('KOSDAQ')\n",
    "kospi_sym = kospi.dropna()['Symbol']\n",
    "kosdaq_sym = kosdaq.dropna()['Symbol']\n",
    "symbols = pd.concat([kospi_sym, kosdaq_sym])\n",
    "\n",
    "date= datetime.date(2019, 4, 1)\n",
    "today = date.today()"
   ]
  },
  {
   "cell_type": "code",
   "execution_count": null,
   "metadata": {},
   "outputs": [],
   "source": [
    "info = pd.DataFrame(columns = ['Corporation', 'PER', 'PBR', 'ROE', 'Debt_R', 'Operating_R'])\n",
    "\n",
    "for symbol in symbols:\n",
    "    \"\"\"모든 상장 기업들의 코드를 하나씩 돌며 info 데이터프레임에 저장\"\"\"\n",
    "    \n",
    "    true_year = today.year   # 사업보고서를 추출한 년도\n",
    "    try:\n",
    "        \"\"\"금년->작년->재작년 사업보고서 순으로 탐색\"\"\"\n",
    "        chart = dart.finstate(symbol, true_year, reprt_code='11011')\n",
    "        if chart is None:\n",
    "            chart = dart.finstate(symbol, true_year-1, reprt_code='11011')\n",
    "            true_year -= 1\n",
    "        if chart is None:\n",
    "            chart = dart.finstate(symbol, true_year-1, reprt_code='11011')\n",
    "            true_year -= 1\n",
    "        if chart is None:\n",
    "            continue\n",
    "        \n",
    "    except:\n",
    "        \"\"\"기업코드 데이터가 없음\"\"\"\n",
    "        continue\n",
    "    prev_chart = dart.finstate(symbol, true_year-1, reprt_code='11011')\n",
    "    \n",
    "    corp = dart.company(symbol)['stock_name']   # 주식 이름\n",
    "    mc = today_mc(symbol, today.year)   # 시가총액\n",
    "    mc_check = today_mc(symbol, today.year-1)   # 1년 전에 상장폐지된 적이 있나 확인\n",
    "    if mc is None or prev_chart is None or mc_check is None:\n",
    "        continue\n",
    "    \n",
    "    pure = to_float(find_value(chart, '당기순이익'))   # 당기순이익\n",
    "    asset =  to_float(find_value(chart, '자산총계'))   # 총 자산\n",
    "    equity = to_float(find_value(chart, '자본총계'))   # 총 자본   \n",
    "    debt = to_float(find_value(chart, '부채총계'))   # 총 부채\n",
    "    curr_operating =  to_float(find_value(chart, '영업이익'))  # 당기 영업이익\n",
    "    prev_operating = to_float(find_value(prev_chart, '영업이익'))   # 전기 영업이익\n",
    "    \n",
    "    if not (pure and asset and equity and debt and curr_operating and prev_operating):\n",
    "        continue\n",
    "    \n",
    "    per = round(mc/pure, 2)\n",
    "    pbr = round(mc/(asset-debt), 2)\n",
    "    roe = round(100*pure/equity, 2)\n",
    "    debt_r = round(100*debt/equity, 2)\n",
    "    operating_r = round(100*(curr_operating-prev_operating)/prev_operating, 2)\n",
    "    \n",
    "    temp_list = [(corp, per, pbr, roe, debt_r, operating_r)]\n",
    "    temp = pd.DataFrame(temp_list, columns = ['Corporation', 'PER', 'PBR', 'ROE', 'Debt_R', 'Operating_R'])\n",
    "    info = info.append(temp, ignore_index=True)\n",
    "    \n",
    "info"
   ]
  },
  {
   "cell_type": "code",
   "execution_count": null,
   "metadata": {},
   "outputs": [],
   "source": [
    "\"\"\"필터링\"\"\"\n",
    "\n",
    "condition = (info['PER'] < 5) & (info['PBR'] < 1) & (info['ROE'] > 15) & (info['Debt_R'] < 100) & (info['Operating_R'] > 20)\n",
    "info[condition]"
   ]
  }
 ],
 "metadata": {
  "kernelspec": {
   "display_name": "Python 3",
   "language": "python",
   "name": "python3"
  },
  "language_info": {
   "codemirror_mode": {
    "name": "ipython",
    "version": 3
   },
   "file_extension": ".py",
   "mimetype": "text/x-python",
   "name": "python",
   "nbconvert_exporter": "python",
   "pygments_lexer": "ipython3",
   "version": "3.8.5"
  }
 },
 "nbformat": 4,
 "nbformat_minor": 4
}
