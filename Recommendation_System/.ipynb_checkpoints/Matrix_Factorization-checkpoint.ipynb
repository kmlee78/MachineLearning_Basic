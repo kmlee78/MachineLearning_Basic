{
 "cells": [
  {
   "cell_type": "code",
   "execution_count": 1,
   "metadata": {},
   "outputs": [],
   "source": [
    "# 행렬 인수분해를 통한 상품 추천 시스템\n",
    "import numpy as np\n",
    "import pandas as pd\n",
    "import matplotlib.pyplot as plt"
   ]
  },
  {
   "cell_type": "code",
   "execution_count": 2,
   "metadata": {},
   "outputs": [],
   "source": [
    "# 출력 옵션\n",
    "np.random.seed(5)\n",
    "RATING_DATA_PATH = '../data/ratings.csv'\n",
    "np.set_printoptions(precision=2)\n",
    "np.set_printoptions(suppress=True)"
   ]
  },
  {
   "cell_type": "code",
   "execution_count": 3,
   "metadata": {},
   "outputs": [],
   "source": [
    "\"\"\"유저 취향과 상품 속성을 곱해서 예측 값을 계산하는 함수\"\"\"\n",
    "def predict(Theta, X):\n",
    "    return Theta @ X"
   ]
  },
  {
   "cell_type": "code",
   "execution_count": 4,
   "metadata": {},
   "outputs": [],
   "source": [
    "\"\"\"행렬 인수분해 알고리즘의 손실을 계산해주는 함수\"\"\"\n",
    "def cost(prediction, R):\n",
    "    return np.nansum((prediction - R)**2)"
   ]
  },
  {
   "cell_type": "code",
   "execution_count": 5,
   "metadata": {},
   "outputs": [],
   "source": [
    "\"\"\"임의로 유저 취향과 상품 속성 행렬들을 만들어주는 함수\"\"\"\n",
    "def initialize(R, num_features):\n",
    "    num_users, num_items = R.shape\n",
    "    \n",
    "    # np.random.rand(a,b) 는 임의의 a X b 크기의 행렬을 만들어준다\n",
    "    Theta = np.random.rand(num_users, num_features)\n",
    "    X = np.random.rand(num_features, num_items)\n",
    "    \n",
    "    return Theta, X"
   ]
  },
  {
   "cell_type": "code",
   "execution_count": 6,
   "metadata": {},
   "outputs": [],
   "source": [
    "\"\"\"행렬 인수분해 경사 하강 함수\"\"\"\n",
    "def gradient_descent(R, Theta, X, iteration, alpha, lambda_):\n",
    "    num_user, num_items = R.shape\n",
    "    num_features = len(X)\n",
    "    costs = []\n",
    "        \n",
    "    for _ in range(iteration):\n",
    "        prediction = predict(Theta, X)\n",
    "        error = prediction - R\n",
    "        costs.append(cost(prediction, R))\n",
    "                          \n",
    "        for i in range(num_user):\n",
    "            for j in range(num_items):\n",
    "                if not np.isnan(R[i][j]):\n",
    "                    for k in range(num_features):\n",
    "                        Theta[i][k] -= alpha * (np.nansum(error[i,:]*X[k,:]) + lambda_*Theta[i][k])\n",
    "                        X[k][j] -= alpha * (np.nansum(error[:,j]*Theta[:,k]) + lambda_*X[k][j])\n",
    "                        \n",
    "    return Theta, X, costs"
   ]
  },
  {
   "cell_type": "code",
   "execution_count": 7,
   "metadata": {},
   "outputs": [],
   "source": [
    "# 평점 데이터\n",
    "ratings_df = pd.read_csv(RATING_DATA_PATH, index_col='user_id')"
   ]
  },
  {
   "cell_type": "code",
   "execution_count": 8,
   "metadata": {},
   "outputs": [],
   "source": [
    "# 평점 데이터에 mean normalization을 적용\n",
    "for row in ratings_df.values:\n",
    "    row -= np.nanmean(row)\n",
    "       \n",
    "R = ratings_df.values"
   ]
  },
  {
   "cell_type": "code",
   "execution_count": 9,
   "metadata": {},
   "outputs": [],
   "source": [
    "Theta, X = initialize(R, 5)  # 행렬 초기화\n",
    "Theta, X, costs = gradient_descent(R, Theta, X, 200, 0.001, 0.01)  # 경사 하강\n",
    "    "
   ]
  },
  {
   "cell_type": "code",
   "execution_count": 10,
   "metadata": {},
   "outputs": [
    {
     "data": {
      "text/plain": [
       "[<matplotlib.lines.Line2D at 0x18242389730>]"
      ]
     },
     "execution_count": 10,
     "metadata": {},
     "output_type": "execute_result"
    },
    {
     "data": {
      "image/png": "[encoded data removed]",
      "text/plain": [
       "<Figure size 432x288 with 1 Axes>"
      ]
     },
     "metadata": {
      "needs_background": "light"
     },
     "output_type": "display_data"
    }
   ],
   "source": [
    "# 손실값을 matplot을 통해 시각화\n",
    "plt.plot(costs)"
   ]
  },
  {
   "cell_type": "code",
   "execution_count": 11,
   "metadata": {},
   "outputs": [
    {
     "data": {
      "text/plain": [
       "(array([[-1.35,  0.35,  0.74,  0.18,  0.33],\n",
       "        [ 0.72, -0.4 ,  0.66,  0.9 ,  0.87],\n",
       "        [ 1.53,  1.03,  0.08, -0.11, -1.05],\n",
       "        [-0.39, -0.81,  0.07,  1.02, -0.55],\n",
       "        [-0.04, -0.2 ,  1.29,  0.75,  0.53],\n",
       "        [ 0.79,  0.9 ,  0.26,  0.1 ,  0.58],\n",
       "        [ 0.83, -0.29,  1.1 ,  1.3 ,  0.85],\n",
       "        [ 0.92,  1.08,  1.34,  0.5 , -0.16],\n",
       "        [ 1.14, -0.19,  0.46,  0.23, -1.09],\n",
       "        [ 0.73, -0.03, -0.48, -0.32,  0.55],\n",
       "        [ 0.16, -0.19,  1.26, -1.54, -0.34],\n",
       "        [-0.92,  2.23, -0.18,  0.97,  0.3 ],\n",
       "        [-0.09,  0.06, -0.18,  1.13, -0.55],\n",
       "        [-0.25, -0.31,  1.74, -0.95,  0.84],\n",
       "        [ 0.92,  0.94, -0.46,  0.41,  1.3 ],\n",
       "        [ 0.23, -0.02,  0.35, -0.4 ,  1.16],\n",
       "        [-0.76,  0.23,  1.51,  0.89, -0.58],\n",
       "        [-0.13,  0.92,  0.53, -1.09,  0.96],\n",
       "        [-0.4 ,  1.33, -0.48,  0.04, -0.03],\n",
       "        [ 0.06,  0.87,  1.25,  0.82, -1.69]]),\n",
       " array([[-0.19, -0.15, -0.91, -0.74,  0.75,  0.6 ,  0.83,  0.71, -0.68,\n",
       "         -0.93, -0.68,  0.97, -0.89,  1.1 , -1.23,  0.29,  0.67, -0.35,\n",
       "          1.7 , -0.22],\n",
       "        [-0.15,  1.58,  0.07,  0.74,  0.12,  1.3 , -0.96,  0.77,  0.43,\n",
       "         -0.73, -0.78, -0.21, -0.3 , -1.06, -1.07, -0.01, -0.8 , -0.23,\n",
       "          0.99,  1.5 ],\n",
       "        [ 0.06,  0.02, -1.22,  1.32,  0.03,  0.5 , -0.13, -0.77, -0.94,\n",
       "          0.29, -0.29,  0.82,  0.26,  0.28,  0.45,  1.24, -0.1 ,  1.98,\n",
       "          0.24, -0.27],\n",
       "        [-0.3 ,  0.34,  1.77, -0.55,  0.88,  0.64, -0.71,  0.23, -0.27,\n",
       "          0.11, -0.32, -0.59, -0.87,  1.35, -0.29, -0.64, -0.19,  1.43,\n",
       "         -0.24, -0.64],\n",
       "        [ 0.33, -1.05,  0.66,  1.25, -0.76,  0.54, -0.86, -0.55, -0.1 ,\n",
       "          0.63,  0.98, -0.12, -1.66,  0.48, -0.34,  0.61,  0.58, -1.19,\n",
       "          1.59,  0.04]]))"
      ]
     },
     "execution_count": 11,
     "metadata": {},
     "output_type": "execute_result"
    }
   ],
   "source": [
    "# 인수분해한 두 행렬의 값\n",
    "Theta, X"
   ]
  }
 ],
 "metadata": {
  "kernelspec": {
   "display_name": "Python 3",
   "language": "python",
   "name": "python3"
  },
  "language_info": {
   "codemirror_mode": {
    "name": "ipython",
    "version": 3
   },
   "file_extension": ".py",
   "mimetype": "text/x-python",
   "name": "python",
   "nbconvert_exporter": "python",
   "pygments_lexer": "ipython3",
   "version": "3.8.5"
  }
 },
 "nbformat": 4,
 "nbformat_minor": 4
}
