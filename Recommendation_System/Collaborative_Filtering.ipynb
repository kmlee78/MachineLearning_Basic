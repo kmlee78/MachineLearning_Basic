{
 "cells": [
  {
   "cell_type": "code",
   "execution_count": 1,
   "metadata": {},
   "outputs": [],
   "source": [
    "# 유저 기반 협업 필터링을 통한 상품 추천 시스템\n",
    "import pandas as pd\n",
    "import numpy as np\n",
    "from math import sqrt"
   ]
  },
  {
   "cell_type": "code",
   "execution_count": 2,
   "metadata": {},
   "outputs": [],
   "source": [
    "#평점 데이터\n",
    "RATING_DATA_PATH = '../data/ratings.csv'\n",
    "np.set_printoptions(precision=2)"
   ]
  },
  {
   "cell_type": "code",
   "execution_count": 3,
   "metadata": {},
   "outputs": [],
   "source": [
    "# 유저 간의 유클리드 거리를 계산해주는 함수\n",
    "def distance(user_1, user_2):\n",
    "    return sqrt(np.sum((user_1 - user_2)**2))"
   ]
  },
  {
   "cell_type": "code",
   "execution_count": 4,
   "metadata": {},
   "outputs": [],
   "source": [
    "# 특정 영화를 평가하지 않은 유저들을 제외시켜주는 함수\n",
    "def filter_users_without_movie(rating_data, movie_id):\n",
    "    return rating_data[~np.isnan(rating_data[:,movie_id])]"
   ]
  },
  {
   "cell_type": "code",
   "execution_count": 5,
   "metadata": {},
   "outputs": [],
   "source": [
    "# 평점 데이터의 빈값들을 각 유저 평균 값으로 채워주는 함수\n",
    "def fill_nan_with_user_mean(rating_data):\n",
    "    filled_data = np.copy(rating_data)  # 평점 데이터를 훼손하지 않기 위해 복사\n",
    "    row_mean = np.nanmean(filled_data, axis=0)  # 유저 평균 평점 계산\n",
    "    \n",
    "    inds = np.where(np.isnan(filled_data))  # 비어 있는 인덱스들을 구한다\n",
    "    filled_data[inds] = np.take(row_mean, inds[1])  #빈 인덱스를 유저 평점으로 채운다\n",
    "    \n",
    "    return filled_data"
   ]
  },
  {
   "cell_type": "code",
   "execution_count": 6,
   "metadata": {},
   "outputs": [],
   "source": [
    "# 유저의 이웃들을 찾아주는 함수\n",
    "def get_k_neighbors(user_id, rating_data, k):\n",
    "    distance_data = np.copy(rating_data)  # 평점 데이터를 훼손하지 않기 위해 복사\n",
    "    # 마지막에 거리 데이터를 담을 열 추가\n",
    "    distance_data = np.append(distance_data, np.zeros((distance_data.shape[0], 1)), axis=1)\n",
    "    \n",
    "    for i in range(len(distance_data)):\n",
    "        row = distance_data[i]\n",
    "        if i == user_id:  # 같은 유저면 거리를 무한대로 설정\n",
    "            row[-1] = np.inf\n",
    "        else:  # 다른 유저면 마지막 열에 거리 데이터를 저장\n",
    "            row[-1] = distance(distance_data[user_id][:-1], row[:-1])\n",
    "    \n",
    "    # 데이터를 거리 열을 기준으로 정렬한다\n",
    "    distance_data = distance_data[np.argsort(distance_data[:, -1])]\n",
    "    \n",
    "    # 가장 가까운 k개의 행만 리턴. 마지막 열은 제외\n",
    "    return distance_data[:k, :-1]"
   ]
  },
  {
   "cell_type": "code",
   "execution_count": 7,
   "metadata": {},
   "outputs": [],
   "source": [
    "# 유저의 영화 평점 예측 값 구하기\n",
    "def predict_user_rating(rating_data, k, user_id, movie_id,):\n",
    "    # movie_id 번째 영화를 보지 않은 유저를 데이터에서 미리 제외\n",
    "    filtered_data = filter_users_without_movie(rating_data, movie_id)\n",
    "    # 빈값들이 채워진 새로운 행렬을 만든다\n",
    "    filled_data = fill_nan_with_user_mean(filtered_data)\n",
    "    # 유저 user_id와 비슷한 k개의 유저 데이터를 찾는다\n",
    "    neighbors = get_k_neighbors(user_id, filled_data, k)\n",
    "    \n",
    "    return np.mean(neighbors[:, movie_id])"
   ]
  },
  {
   "cell_type": "code",
   "execution_count": 8,
   "metadata": {},
   "outputs": [
    {
     "data": {
      "text/plain": [
       "4.0"
      ]
     },
     "execution_count": 8,
     "metadata": {},
     "output_type": "execute_result"
    }
   ],
   "source": [
    "rating_data = pd.read_csv(RATING_DATA_PATH, index_col='user_id').values\n",
    "# 5개의 이웃들을 써서 유저 0의 영화 3에 대한 예측 평점 구하기\n",
    "predict_user_rating(rating_data, 5, 0, 3)  "
   ]
  }
 ],
 "metadata": {
  "kernelspec": {
   "display_name": "Python 3",
   "language": "python",
   "name": "python3"
  },
  "language_info": {
   "codemirror_mode": {
    "name": "ipython",
    "version": 3
   },
   "file_extension": ".py",
   "mimetype": "text/x-python",
   "name": "python",
   "nbconvert_exporter": "python",
   "pygments_lexer": "ipython3",
   "version": "3.8.5"
  }
 },
 "nbformat": 4,
 "nbformat_minor": 4
}
