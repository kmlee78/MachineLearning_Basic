{
 "cells": [
  {
   "cell_type": "code",
   "execution_count": 1,
   "metadata": {},
   "outputs": [],
   "source": [
    "# 행렬 인수분해를 통한 상품 추천 시스템\n",
    "import numpy as np\n",
    "import pandas as pd\n",
    "import matplotlib.pyplot as plt"
   ]
  },
  {
   "cell_type": "code",
   "execution_count": 2,
   "metadata": {},
   "outputs": [],
   "source": [
    "# 출력 옵션\n",
    "RATING_DATA_PATH = '../data/ratings.csv'\n",
    "np.set_printoptions(precision=2)\n",
    "np.set_printoptions(suppress=True)"
   ]
  },
  {
   "cell_type": "code",
   "execution_count": 3,
   "metadata": {},
   "outputs": [],
   "source": [
    "\"\"\"유저 취향과 상품 속성을 곱해서 예측 값을 계산하는 함수\"\"\"\n",
    "def predict(Theta, X):\n",
    "    return Theta @ X"
   ]
  },
  {
   "cell_type": "code",
   "execution_count": 4,
   "metadata": {},
   "outputs": [],
   "source": [
    "\"\"\"행렬 인수분해 알고리즘의 손실을 계산해주는 함수\"\"\"\n",
    "def cost(prediction, R):\n",
    "    return np.nansum((prediction - R)**2)"
   ]
  },
  {
   "cell_type": "code",
   "execution_count": 5,
   "metadata": {},
   "outputs": [],
   "source": [
    "\"\"\"임의로 유저 취향과 상품 속성 행렬들을 만들어주는 함수\"\"\"\n",
    "def initialize(R, num_features):\n",
    "    num_users, num_items = R.shape\n",
    "    \n",
    "    # np.random.rand(a,b) 는 임의의 a X b 크기의 행렬을 만들어준다\n",
    "    Theta = np.random.rand(num_users, num_features)\n",
    "    X = np.random.rand(num_features, num_items)\n",
    "    \n",
    "    return Theta, X"
   ]
  },
  {
   "cell_type": "code",
   "execution_count": 6,
   "metadata": {},
   "outputs": [],
   "source": [
    "\"\"\"행렬 인수분해 경사 하강 함수\"\"\"\n",
    "def gradient_descent(R, Theta, X, iteration, alpha, lambda_):\n",
    "    num_user, num_items = R.shape\n",
    "    num_features = len(X)\n",
    "    costs = []\n",
    "        \n",
    "    for _ in range(iteration):\n",
    "        prediction = predict(Theta, X)\n",
    "        error = prediction - R\n",
    "        costs.append(cost(prediction, R))\n",
    "                          \n",
    "        for i in range(num_user):\n",
    "            for j in range(num_items):\n",
    "                if not np.isnan(R[i][j]):\n",
    "                    for k in range(num_features):\n",
    "                        Theta[i][k] -= alpha * (np.nansum(error[i,:]*X[k,:]) + lambda_*Theta[i][k])\n",
    "                        X[k][j] -= alpha * (np.nansum(error[:,j]*Theta[:,k]) + lambda_*X[k][j])\n",
    "                        \n",
    "    return Theta, X, costs"
   ]
  },
  {
   "cell_type": "code",
   "execution_count": 7,
   "metadata": {},
   "outputs": [],
   "source": [
    "# 평점 데이터\n",
    "ratings_df = pd.read_csv(RATING_DATA_PATH, index_col='user_id')"
   ]
  },
  {
   "cell_type": "code",
   "execution_count": 8,
   "metadata": {},
   "outputs": [],
   "source": [
    "# 평점 데이터에 mean normalization을 적용\n",
    "for row in ratings_df.values:\n",
    "    row -= np.nanmean(row)\n",
    "       \n",
    "R = ratings_df.values"
   ]
  },
  {
   "cell_type": "code",
   "execution_count": null,
   "metadata": {},
   "outputs": [],
   "source": [
    "Theta, X = initialize(R, 5)  # 행렬 초기화\n",
    "Theta, X, costs = gradient_descent(R, Theta, X, 200, 0.001, 0.01)  # 경사 하강\n",
    "    "
   ]
  },
  {
   "cell_type": "code",
   "execution_count": null,
   "metadata": {},
   "outputs": [],
   "source": [
    "# 손실값을 matplot을 통해 시각화\n",
    "plt.plot(costs)"
   ]
  },
  {
   "cell_type": "code",
   "execution_count": null,
   "metadata": {},
   "outputs": [],
   "source": [
    "# 인수분해한 두 행렬의 값\n",
    "Theta, X"
   ]
  }
 ],
 "metadata": {
  "kernelspec": {
   "display_name": "Python 3",
   "language": "python",
   "name": "python3"
  },
  "language_info": {
   "codemirror_mode": {
    "name": "ipython",
    "version": 3
   },
   "file_extension": ".py",
   "mimetype": "text/x-python",
   "name": "python",
   "nbconvert_exporter": "python",
   "pygments_lexer": "ipython3",
   "version": "3.8.5"
  }
 },
 "nbformat": 4,
 "nbformat_minor": 4
}
