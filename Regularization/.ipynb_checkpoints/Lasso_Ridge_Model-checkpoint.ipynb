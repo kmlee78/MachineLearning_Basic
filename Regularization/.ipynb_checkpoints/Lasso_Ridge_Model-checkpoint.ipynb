{
 "cells": [
  {
   "cell_type": "code",
   "execution_count": 1,
   "metadata": {},
   "outputs": [],
   "source": [
    "# Lasso, Ridge 모델을 가져오기 위해 LinearRegression 대신 Lasso, Ridge 메소드를 가져온다.\n",
    "from sklearn.linear_model import Lasso\n",
    "from sklearn.linear_model import Ridge\n",
    "\n",
    "from sklearn.model_selection import train_test_split\n",
    "from sklearn.preprocessing import PolynomialFeatures\n",
    "from sklearn.metrics import mean_squared_error\n",
    "import pandas as pd"
   ]
  },
  {
   "cell_type": "code",
   "execution_count": 2,
   "metadata": {},
   "outputs": [],
   "source": [
    "# Overfitting 파일에서 사용한 코드를 그대로 가져왔다. 일단 입력변수와 목표변수 설정은 동일\n",
    "admission_df = pd.read_csv('../data/admission_data.csv').drop('Serial No.', axis=1)\n",
    "X = admission_df.drop(['Chance of Admit '], axis=1)\n",
    "transformer = PolynomialFeatures(6)\n",
    "polynomial_features = transformer.fit_transform(X.values)\n",
    "features = transformer.get_feature_names(X.columns)\n",
    "\n",
    "X = pd.DataFrame(polynomial_features, columns=features)\n",
    "y = admission_df[['Chance of Admit ']]\n",
    "X_train, X_test, y_train, y_test = train_test_split(X, y, test_size=0.3, random_state=5)"
   ]
  },
  {
   "cell_type": "code",
   "execution_count": 3,
   "metadata": {},
   "outputs": [
    {
     "data": {
      "text/plain": [
       "Lasso(alpha=0.001, normalize=True)"
      ]
     },
     "execution_count": 3,
     "metadata": {},
     "output_type": "execute_result"
    }
   ],
   "source": [
    "# Lasso 정규화 모델 적용\n",
    "# alpha는 람다를 의미. 경사하강을 1000번 수행하고, normalize=True를 통해 자동으로 feature scaling을 해준다\n",
    "model = Lasso(alpha=0.001, max_iter=1000, normalize=True)\n",
    "model.fit(X_train, y_train)"
   ]
  },
  {
   "cell_type": "code",
   "execution_count": 4,
   "metadata": {},
   "outputs": [],
   "source": [
    "y_train_prediction = model.predict(X_train)\n",
    "y_test_prediction = model.predict(X_test)"
   ]
  },
  {
   "cell_type": "code",
   "execution_count": 5,
   "metadata": {},
   "outputs": [
    {
     "name": "stdout",
     "output_type": "stream",
     "text": [
      "training set에서의 성능: 0.06336620966147144\n",
      "test set에서의 성능: 0.06007719092689258\n"
     ]
    }
   ],
   "source": [
    "# 다시 training data와 test data를 비교해보면 정규화가 잘 되어 성능 차이가 크지 않다는 것을 알 수 있음\n",
    "mse = mean_squared_error(y_train, y_train_prediction) ** 0.5\n",
    "print('training set에서의 성능:', mse)\n",
    "mse = mean_squared_error(y_test, y_test_prediction) ** 0.5\n",
    "print('test set에서의 성능:', mse)"
   ]
  },
  {
   "cell_type": "code",
   "execution_count": 6,
   "metadata": {},
   "outputs": [
    {
     "name": "stdout",
     "output_type": "stream",
     "text": [
      "training set에서의 성능: 0.05327825805895038\n",
      "test set에서의 성능: 0.06669588064650585\n"
     ]
    }
   ],
   "source": [
    "# 이번엔 Lasso 모델이 아니라 Ridge 모델을 사용해 보자. 그냥 메소드 이름만 Ridge 로 바꾸면 됨\n",
    "model = Ridge(alpha=0.001, max_iter=1000, normalize=True)\n",
    "model.fit(X_train, y_train)\n",
    "\n",
    "y_train_prediction = model.predict(X_train)\n",
    "y_test_prediction = model.predict(X_test)\n",
    "\n",
    "mse = mean_squared_error(y_train, y_train_prediction) ** 0.5\n",
    "print('training set에서의 성능:', mse)\n",
    "mse = mean_squared_error(y_test, y_test_prediction) ** 0.5\n",
    "print('test set에서의 성능:', mse)"
   ]
  },
  {
   "cell_type": "code",
   "execution_count": 7,
   "metadata": {},
   "outputs": [],
   "source": [
    "# 로지스틱 회귀에서는 정규화를 어떻게 적용할 수 있을까?\n",
    "# LogisticRegression 모델은 자동으로 L2 정규화를 적용한다. penalty 라는 옵셔널 파라미터로 정해줄 수 있다\n",
    "# LogisticRegression(penalty='none')   정규화 사용 안함\n",
    "# LogisticRegression(penalty='l1')   L1 정규화 사용\n",
    "# LogisticRegression(penalty='l2')   L2 정규화 사용\n",
    "# LogisticRegression()   위와 똑같음: L2 정규화 사용\n"
   ]
  }
 ],
 "metadata": {
  "kernelspec": {
   "display_name": "Python 3",
   "language": "python",
   "name": "python3"
  },
  "language_info": {
   "codemirror_mode": {
    "name": "ipython",
    "version": 3
   },
   "file_extension": ".py",
   "mimetype": "text/x-python",
   "name": "python",
   "nbconvert_exporter": "python",
   "pygments_lexer": "ipython3",
   "version": "3.8.5"
  }
 },
 "nbformat": 4,
 "nbformat_minor": 4
}
