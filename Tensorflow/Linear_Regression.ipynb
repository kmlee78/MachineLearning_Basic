{
 "cells": [
  {
   "cell_type": "code",
   "execution_count": 1,
   "metadata": {},
   "outputs": [
    {
     "name": "stdout",
     "output_type": "stream",
     "text": [
      "    0 | 252446.9062 | -168.038864\n",
      "   10 | 53089.1562 | -76.157295\n",
      "   20 | 11164.6592 | -34.022022\n",
      "   30 |  2348.0344 | -14.699536\n",
      "   40 |   493.9180 |  -5.838585\n",
      "   50 |   104.0015 |  -1.775109\n",
      "   60 |    22.0029 |   0.088329\n",
      "   70 |     4.7588 |   0.942869\n",
      "   80 |     1.1324 |   1.334746\n",
      "   90 |     0.3698 |   1.514454\n",
      "  100 |     0.2094 |   1.596864\n",
      "  110 |     0.1756 |   1.634657\n",
      "  120 |     0.1686 |   1.651987\n",
      "  130 |     0.1671 |   1.659935\n",
      "  140 |     0.1668 |   1.663580\n",
      "  150 |     0.1667 |   1.665251\n",
      "  160 |     0.1667 |   1.666018\n",
      "  170 |     0.1667 |   1.666369\n",
      "  180 |     0.1667 |   1.666530\n",
      "  190 |     0.1667 |   1.666604\n",
      "  200 |     0.1667 |   1.666638\n"
     ]
    }
   ],
   "source": [
    "# H(x) = Wx 에 대한 선형 회귀\n",
    "import tensorflow as tf\n",
    "\n",
    "x_data = [1., 2., 3., 4.]\n",
    "y_data = [1., 3., 5., 7.]\n",
    "\n",
    "# 임의의 숫자 하나를 뽑아 W로 지정\n",
    "W = tf.Variable(tf.random.normal([1], -100, 100))\n",
    "\n",
    "for step in range(201):\n",
    "    hypothesis = W * x_data\n",
    "    cost = tf.reduce_mean(tf.square(hypothesis - y_data))\n",
    "    \n",
    "    \"\"\"\n",
    "    경사하강식을 풀어서 나타낸 W = W - alpha * sigma((H(x)-y)*x)/m 을\n",
    "    코드화 시킨 것이다. 참고로 tf.multiply(A, B) : A * B\n",
    "    A.assign(B) : A = B\n",
    "    \"\"\"\n",
    "    alpha = 0.01\n",
    "    gradient = tf.reduce_mean(tf.multiply(tf.multiply(W, x_data) - y_data, x_data))\n",
    "    descent = W - tf.multiply(alpha, gradient)\n",
    "    W.assign(descent)\n",
    "    \n",
    "    if step % 10 == 0:\n",
    "        print(\"{:5} | {:10.4f} | {:10.6f}\".format(step, cost.numpy(), W.numpy()[0]))"
   ]
  }
 ],
 "metadata": {
  "kernelspec": {
   "display_name": "Python [conda env:tens_2]",
   "language": "python",
   "name": "conda-env-tens_2-py"
  },
  "language_info": {
   "codemirror_mode": {
    "name": "ipython",
    "version": 3
   },
   "file_extension": ".py",
   "mimetype": "text/x-python",
   "name": "python",
   "nbconvert_exporter": "python",
   "pygments_lexer": "ipython3",
   "version": "3.7.9"
  }
 },
 "nbformat": 4,
 "nbformat_minor": 4
}
