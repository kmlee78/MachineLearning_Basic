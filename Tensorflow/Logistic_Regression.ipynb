{
 "cells": [
  {
   "cell_type": "code",
   "execution_count": 1,
   "metadata": {},
   "outputs": [],
   "source": [
    "import tensorflow as tf\n",
    "import numpy as np\n",
    "\n",
    "# 학습 데이터. x는 두 값이 주어지고, y는 0 또는 1로 분류.\n",
    "x_train = [[1., 2.],\n",
    "          [2., 3.],\n",
    "          [3., 1.],\n",
    "          [4., 3.],\n",
    "          [5., 3.],\n",
    "          [6., 2.]]\n",
    "y_train = [[0.],\n",
    "          [0.],\n",
    "          [0.],\n",
    "          [1.],\n",
    "          [1.],\n",
    "          [1.]]\n",
    "\n",
    "# 테스트 데이터\n",
    "x_test = [[5.,2.]]\n",
    "y_test = [[1.]]\n",
    "\n",
    "\"\"\"\n",
    "학습 데이터들을 from_tensor_slices를 통해 담는다.  \n",
    "6개의 slices로 만들고 각각의 slice는 1행2열과 1행 크기를 갖게 된다.\n",
    "\"\"\"\n",
    "dataset = tf.data.Dataset.from_tensor_slices((x_train, y_train))\n",
    "\n",
    "# Weight와 bias는 0으로 초기 설정.\n",
    "W = tf.Variable(tf.zeros([2,1]), name='weight')\n",
    "b = tf.Variable(tf.zeros([1]), name='bias')"
   ]
  },
  {
   "cell_type": "code",
   "execution_count": 2,
   "metadata": {},
   "outputs": [],
   "source": [
    "# 로지스틱 회귀 가설 함수\n",
    "def logistic_regression(features):\n",
    "    hypothesis  = tf.divide(1., 1. + tf.exp(-tf.matmul(features, W) + b))\n",
    "    return hypothesis\n",
    "\n",
    "\n",
    "# 로그 손실 함수\n",
    "def loss_fn(hypothesis, labels):\n",
    "    cost = -tf.reduce_mean(labels * tf.math.log(hypothesis) + (1 - labels) * tf.math.log(1 - hypothesis))\n",
    "    return cost\n",
    "\n",
    "optimizer = tf.keras.optimizers.SGD(learning_rate=0.01)"
   ]
  },
  {
   "cell_type": "code",
   "execution_count": 3,
   "metadata": {},
   "outputs": [],
   "source": [
    "\"\"\"\n",
    "정확도 측정.\n",
    "0.5보다 크면 1, 0.5보다 작으면 0으로 predicted를 정하고\n",
    "tf.equal()로 실제값과 예측값이 같은지 다른지 판명한 후에\n",
    "tf.cast()로 True->1, False->0 변경 후\n",
    "평균을 구해 accuaracy에 담은 후 리턴한다.\n",
    "\"\"\"\n",
    "def accuracy_fn(hypothesis, labels):\n",
    "    predicted = tf.cast(hypothesis > 0.5, dtype=tf.float32)\n",
    "    accuracy = tf.reduce_mean(tf.cast(tf.equal(predicted, labels), dtype=tf.int32))\n",
    "    return accuracy\n",
    "\n",
    "\n",
    "def grad(features, labels):\n",
    "    with tf.GradientTape() as tape:\n",
    "        hypothesis = logistic_regression(features)\n",
    "        loss_value = loss_fn(hypothesis,labels)\n",
    "    return tape.gradient(loss_value, [W,b])"
   ]
  },
  {
   "cell_type": "code",
   "execution_count": 4,
   "metadata": {},
   "outputs": [
    {
     "name": "stdout",
     "output_type": "stream",
     "text": [
      "Iter: 0, Loss: 0.6931\n",
      "Iter: 100, Loss: 0.5781\n",
      "Iter: 200, Loss: 0.5352\n",
      "Iter: 300, Loss: 0.5056\n",
      "Iter: 400, Loss: 0.4840\n",
      "Iter: 500, Loss: 0.4673\n",
      "Iter: 600, Loss: 0.4537\n",
      "Iter: 700, Loss: 0.4421\n",
      "Iter: 800, Loss: 0.4320\n",
      "Iter: 900, Loss: 0.4229\n",
      "Iter: 1000, Loss: 0.4145\n"
     ]
    }
   ],
   "source": [
    "EPOCHS = 1001\n",
    "\n",
    "for step in range(EPOCHS):\n",
    "    # 위의 dataset에 담긴 학습데이터를 batch만큼 나누는데 데이터양이 적기에 전체 크기(6)만큼 한번에 학습.\n",
    "    # features가 x 데이터고 labels가 y 데이터다.\n",
    "    for features, labels  in iter(dataset.batch(len(x_train))):\n",
    "        hypothesis = logistic_regression(features)\n",
    "        grads = grad(features, labels)\n",
    "        # 경사 하강 수행\n",
    "        optimizer.apply_gradients(grads_and_vars=zip(grads,[W,b]))\n",
    "        if step % 100 == 0:\n",
    "            print(\"Iter: {}, Loss: {:.4f}\".format(step, loss_fn(hypothesis,labels)))"
   ]
  },
  {
   "cell_type": "code",
   "execution_count": 5,
   "metadata": {},
   "outputs": [
    {
     "name": "stdout",
     "output_type": "stream",
     "text": [
      "Test Result = [[1]]\n",
      "Testset Accuracy: 1.0000\n"
     ]
    }
   ],
   "source": [
    "# 테스트 데이터를 모델에 적용.\n",
    "test_acc = accuracy_fn(logistic_regression(x_test),y_test)\n",
    "print(\"Test Result = {}\".format(tf.cast(logistic_regression(x_test) > 0.5, dtype=tf.int32)))  \n",
    "print(\"Testset Accuracy: {:.4f}\".format(test_acc))"
   ]
  }
 ],
 "metadata": {
  "kernelspec": {
   "display_name": "Python [conda env:tens_2]",
   "language": "python",
   "name": "conda-env-tens_2-py"
  },
  "language_info": {
   "codemirror_mode": {
    "name": "ipython",
    "version": 3
   },
   "file_extension": ".py",
   "mimetype": "text/x-python",
   "name": "python",
   "nbconvert_exporter": "python",
   "pygments_lexer": "ipython3",
   "version": "3.7.9"
  }
 },
 "nbformat": 4,
 "nbformat_minor": 4
}
