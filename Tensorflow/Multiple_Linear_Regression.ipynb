{
 "cells": [
  {
   "cell_type": "code",
   "execution_count": 1,
   "metadata": {},
   "outputs": [
    {
     "name": "stdout",
     "output_type": "stream",
     "text": [
      "    0 | 37169.8633\n",
      "  100 |     5.8290\n",
      "  200 |     1.2475\n",
      "  300 |     1.2411\n",
      "  400 |     1.2353\n",
      "  500 |     1.2296\n",
      "  600 |     1.2239\n",
      "  700 |     1.2182\n",
      "  800 |     1.2126\n",
      "  900 |     1.2070\n",
      " 1000 |     1.2014\n",
      " 1100 |     1.1959\n",
      " 1200 |     1.1904\n",
      " 1300 |     1.1848\n",
      " 1400 |     1.1794\n",
      " 1500 |     1.1740\n",
      " 1600 |     1.1686\n",
      " 1700 |     1.1632\n",
      " 1800 |     1.1578\n",
      " 1900 |     1.1525\n",
      " 2000 |     1.1472\n"
     ]
    }
   ],
   "source": [
    "import tensorflow as tf\n",
    "import numpy as np\n",
    "\n",
    "# 행렬을 이용해서 X와 Y값들을 표현\n",
    "data = np.array([\n",
    "   # X1   X2   X3    Y\n",
    "    [73., 80., 75., 152.],\n",
    "    [93., 88., 93., 185.],\n",
    "    [89., 91., 90., 180.],\n",
    "    [96., 98., 100., 196.],\n",
    "    [73., 66., 70., 142.]\n",
    "])\n",
    "\n",
    "# 데이터 슬라이싱\n",
    "X = data[:, :-1]\n",
    "y = data[:, [-1]]\n",
    "\n",
    "# W와 b는 임의의 값으로 초기화. W은 X랑 곱해야 하니 3개가 필요하므로 [3,1] 형태로 추출\n",
    "W = tf.Variable(tf.random.normal([3,1]))\n",
    "b = tf.Variable(tf.random.normal([1]))\n",
    "\n",
    "learning_rate = 0.000001\n",
    "\n",
    "# 가설 함수를 리턴하는 함수\n",
    "def predict(X):\n",
    "    return X @ W + b\n",
    "\n",
    "\n",
    "# 이후로는 전과 동일한 방법으로 경사 하강 수행\n",
    "for i in range(2001):\n",
    "    with tf.GradientTape() as tape:\n",
    "        cost = tf.reduce_mean(tf.square(predict(X) - y))\n",
    "        \n",
    "    W_grad, b_grad = tape.gradient(cost, [W, b])\n",
    "    W.assign_sub(learning_rate * W_grad)\n",
    "    b.assign_sub(learning_rate * b_grad)\n",
    "    \n",
    "    if i % 100 == 0:\n",
    "        print(\"{:5} | {:10.4f}\".format(i, cost.numpy()))"
   ]
  }
 ],
 "metadata": {
  "kernelspec": {
   "display_name": "Python [conda env:tens_2]",
   "language": "python",
   "name": "conda-env-tens_2-py"
  },
  "language_info": {
   "codemirror_mode": {
    "name": "ipython",
    "version": 3
   },
   "file_extension": ".py",
   "mimetype": "text/x-python",
   "name": "python",
   "nbconvert_exporter": "python",
   "pygments_lexer": "ipython3",
   "version": "3.7.9"
  }
 },
 "nbformat": 4,
 "nbformat_minor": 4
}
