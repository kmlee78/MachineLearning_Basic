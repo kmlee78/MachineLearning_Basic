{
 "cells": [
  {
   "cell_type": "code",
   "execution_count": 1,
   "metadata": {},
   "outputs": [
    {
     "name": "stdout",
     "output_type": "stream",
     "text": [
      "7373\n"
     ]
    },
    {
     "data": {
      "text/html": [
       "<div>\n",
       "<style scoped>\n",
       "    .dataframe tbody tr th:only-of-type {\n",
       "        vertical-align: middle;\n",
       "    }\n",
       "\n",
       "    .dataframe tbody tr th {\n",
       "        vertical-align: top;\n",
       "    }\n",
       "\n",
       "    .dataframe thead th {\n",
       "        text-align: right;\n",
       "    }\n",
       "</style>\n",
       "<table border=\"1\" class=\"dataframe\">\n",
       "  <thead>\n",
       "    <tr style=\"text-align: right;\">\n",
       "      <th></th>\n",
       "      <th>Symbol</th>\n",
       "      <th>Market</th>\n",
       "      <th>Name</th>\n",
       "      <th>Sector</th>\n",
       "      <th>Industry</th>\n",
       "      <th>ListingDate</th>\n",
       "      <th>SettleMonth</th>\n",
       "      <th>Representative</th>\n",
       "      <th>HomePage</th>\n",
       "      <th>Region</th>\n",
       "    </tr>\n",
       "  </thead>\n",
       "  <tbody>\n",
       "    <tr>\n",
       "      <th>0</th>\n",
       "      <td>060310</td>\n",
       "      <td>KOSDAQ</td>\n",
       "      <td>3S</td>\n",
       "      <td>특수 목적용 기계 제조업</td>\n",
       "      <td>반도체 웨이퍼 캐리어</td>\n",
       "      <td>2002-04-23</td>\n",
       "      <td>03월</td>\n",
       "      <td>박종익, 김세완 (각자 대표이사)</td>\n",
       "      <td>http://www.3sref.com</td>\n",
       "      <td>서울특별시</td>\n",
       "    </tr>\n",
       "    <tr>\n",
       "      <th>1</th>\n",
       "      <td>095570</td>\n",
       "      <td>KOSPI</td>\n",
       "      <td>AJ네트웍스</td>\n",
       "      <td>산업용 기계 및 장비 임대업</td>\n",
       "      <td>렌탈(파렛트, OA장비, 건설장비)</td>\n",
       "      <td>2015-08-21</td>\n",
       "      <td>12월</td>\n",
       "      <td>이현우</td>\n",
       "      <td>http://www.ajnet.co.kr</td>\n",
       "      <td>서울특별시</td>\n",
       "    </tr>\n",
       "    <tr>\n",
       "      <th>2</th>\n",
       "      <td>006840</td>\n",
       "      <td>KOSPI</td>\n",
       "      <td>AK홀딩스</td>\n",
       "      <td>기타 금융업</td>\n",
       "      <td>지주사업</td>\n",
       "      <td>1999-08-11</td>\n",
       "      <td>12월</td>\n",
       "      <td>채형석, 이석주(각자 대표이사)</td>\n",
       "      <td>http://www.aekyunggroup.co.kr</td>\n",
       "      <td>서울특별시</td>\n",
       "    </tr>\n",
       "    <tr>\n",
       "      <th>3</th>\n",
       "      <td>054620</td>\n",
       "      <td>KOSDAQ</td>\n",
       "      <td>APS홀딩스</td>\n",
       "      <td>기타 금융업</td>\n",
       "      <td>인터넷 트래픽 솔루션</td>\n",
       "      <td>2001-12-04</td>\n",
       "      <td>12월</td>\n",
       "      <td>정기로</td>\n",
       "      <td>http://www.apsholdings.co.kr</td>\n",
       "      <td>경기도</td>\n",
       "    </tr>\n",
       "    <tr>\n",
       "      <th>4</th>\n",
       "      <td>265520</td>\n",
       "      <td>KOSDAQ</td>\n",
       "      <td>AP시스템</td>\n",
       "      <td>특수 목적용 기계 제조업</td>\n",
       "      <td>디스플레이 제조 장비</td>\n",
       "      <td>2017-04-07</td>\n",
       "      <td>12월</td>\n",
       "      <td>김영주</td>\n",
       "      <td>http://www.apsystems.co.kr</td>\n",
       "      <td>경기도</td>\n",
       "    </tr>\n",
       "  </tbody>\n",
       "</table>\n",
       "</div>"
      ],
      "text/plain": [
       "   Symbol  Market    Name           Sector             Industry ListingDate  \\\n",
       "0  060310  KOSDAQ      3S    특수 목적용 기계 제조업          반도체 웨이퍼 캐리어  2002-04-23   \n",
       "1  095570   KOSPI  AJ네트웍스  산업용 기계 및 장비 임대업  렌탈(파렛트, OA장비, 건설장비)  2015-08-21   \n",
       "2  006840   KOSPI   AK홀딩스           기타 금융업                 지주사업  1999-08-11   \n",
       "3  054620  KOSDAQ  APS홀딩스           기타 금융업          인터넷 트래픽 솔루션  2001-12-04   \n",
       "4  265520  KOSDAQ   AP시스템    특수 목적용 기계 제조업          디스플레이 제조 장비  2017-04-07   \n",
       "\n",
       "  SettleMonth      Representative                       HomePage Region  \n",
       "0         03월  박종익, 김세완 (각자 대표이사)           http://www.3sref.com  서울특별시  \n",
       "1         12월                 이현우         http://www.ajnet.co.kr  서울특별시  \n",
       "2         12월   채형석, 이석주(각자 대표이사)  http://www.aekyunggroup.co.kr  서울특별시  \n",
       "3         12월                 정기로   http://www.apsholdings.co.kr    경기도  \n",
       "4         12월                 김영주     http://www.apsystems.co.kr    경기도  "
      ]
     },
     "execution_count": 1,
     "metadata": {},
     "output_type": "execute_result"
    }
   ],
   "source": [
    "import FinanceDataReader as fdr\n",
    "\n",
    "# 한국 거래소에 상장된 종목 리스트\n",
    "df_krx = fdr.StockListing('KRX')\n",
    "print(len(df_krx))\n",
    "df_krx.head()"
   ]
  },
  {
   "cell_type": "code",
   "execution_count": 2,
   "metadata": {},
   "outputs": [
    {
     "name": "stdout",
     "output_type": "stream",
     "text": [
      "            Open  High   Low  Close  Volume    Change\n",
      "Date                                                 \n",
      "2018-01-02  2795  2860  2795   2850  118224  0.019678\n",
      "2018-01-03  2850  2860  2820   2845  152892 -0.001754\n",
      "2018-01-04  2845  2860  2815   2820  195786 -0.008787\n",
      "2018-01-05  2820  2920  2820   2900  283369  0.028369\n",
      "2018-01-08  2900  2940  2870   2900  179173  0.000000\n",
      "2018-01-09  2920  2945  2860   2875  209231 -0.008621\n",
      "2018-01-10  2850  2970  2850   2955  440681  0.027826\n",
      "2018-01-11  2975  2975  2930   2940  200819 -0.005076\n",
      "2018-01-12  2930  2955  2890   2910  156725 -0.010204\n",
      "2018-01-15  2910  2915  2870   2895  245777 -0.005155\n"
     ]
    },
    {
     "data": {
      "text/plain": [
       "<AxesSubplot:xlabel='Date'>"
      ]
     },
     "execution_count": 2,
     "metadata": {},
     "output_type": "execute_result"
    },
    {
     "data": {
      "image/png": "[encoded data removed]",
      "text/plain": [
       "<Figure size 432x288 with 1 Axes>"
      ]
     },
     "metadata": {
      "needs_background": "light"
     },
     "output_type": "display_data"
    }
   ],
   "source": [
    "# 2018년 GS글로벌 데이터 불러오기. 한국 거래소는 단축코드 입력\n",
    "df = fdr.DataReader('001250', '2018')\n",
    "print(df.head(10))\n",
    "df['Close'].plot()"
   ]
  },
  {
   "cell_type": "code",
   "execution_count": 3,
   "metadata": {},
   "outputs": [
    {
     "name": "stdout",
     "output_type": "stream",
     "text": [
      "            Close   Open   High    Low       Volume  Change\n",
      "Date                                                       \n",
      "2017-01-03  29.04  28.95  29.08  28.69  115130000.0  0.0031\n",
      "2017-01-04  29.00  28.96  29.13  28.94   84470000.0 -0.0014\n",
      "2017-01-05  29.15  28.98  29.22  28.95   88770000.0  0.0052\n",
      "2017-01-06  29.48  29.20  29.54  29.12  127010000.0  0.0113\n",
      "2017-01-09  29.75  29.49  29.86  29.48  134250000.0  0.0092\n",
      "2017-01-10  29.78  29.69  29.84  29.57   97850000.0  0.0010\n",
      "2017-01-11  29.94  29.68  29.98  29.65  110350000.0  0.0054\n",
      "2017-01-12  29.81  29.72  29.82  29.55  108340000.0 -0.0043\n",
      "2017-01-13  29.76  29.78  29.91  29.70  104450000.0 -0.0017\n",
      "2017-01-17  30.00  29.59  30.06  29.55  137760000.0  0.0081\n"
     ]
    },
    {
     "data": {
      "text/plain": [
       "<AxesSubplot:xlabel='Date'>"
      ]
     },
     "execution_count": 3,
     "metadata": {},
     "output_type": "execute_result"
    },
    {
     "data": {
      "image/png": "[encoded data removed]",
      "text/plain": [
       "<Figure size 432x288 with 1 Axes>"
      ]
     },
     "metadata": {
      "needs_background": "light"
     },
     "output_type": "display_data"
    }
   ],
   "source": [
    "# 미국 주가는 미국만의 코드 입력. 2017년 애플\n",
    "df = fdr.DataReader('AAPL', '2017')\n",
    "print(df.head(10))\n",
    "df['Close'].plot()"
   ]
  },
  {
   "cell_type": "code",
   "execution_count": 4,
   "metadata": {},
   "outputs": [
    {
     "data": {
      "text/html": [
       "<div>\n",
       "<style scoped>\n",
       "    .dataframe tbody tr th:only-of-type {\n",
       "        vertical-align: middle;\n",
       "    }\n",
       "\n",
       "    .dataframe tbody tr th {\n",
       "        vertical-align: top;\n",
       "    }\n",
       "\n",
       "    .dataframe thead th {\n",
       "        text-align: right;\n",
       "    }\n",
       "</style>\n",
       "<table border=\"1\" class=\"dataframe\">\n",
       "  <thead>\n",
       "    <tr style=\"text-align: right;\">\n",
       "      <th></th>\n",
       "      <th>Close</th>\n",
       "      <th>Open</th>\n",
       "      <th>High</th>\n",
       "      <th>Low</th>\n",
       "      <th>Change</th>\n",
       "    </tr>\n",
       "    <tr>\n",
       "      <th>Date</th>\n",
       "      <th></th>\n",
       "      <th></th>\n",
       "      <th></th>\n",
       "      <th></th>\n",
       "      <th></th>\n",
       "    </tr>\n",
       "  </thead>\n",
       "  <tbody>\n",
       "    <tr>\n",
       "      <th>1995-01-02</th>\n",
       "      <td>788.50</td>\n",
       "      <td>788.50</td>\n",
       "      <td>788.50</td>\n",
       "      <td>788.50</td>\n",
       "      <td>0.0000</td>\n",
       "    </tr>\n",
       "    <tr>\n",
       "      <th>1995-01-03</th>\n",
       "      <td>788.65</td>\n",
       "      <td>788.05</td>\n",
       "      <td>788.85</td>\n",
       "      <td>787.55</td>\n",
       "      <td>0.0002</td>\n",
       "    </tr>\n",
       "    <tr>\n",
       "      <th>1995-01-04</th>\n",
       "      <td>789.95</td>\n",
       "      <td>788.65</td>\n",
       "      <td>790.05</td>\n",
       "      <td>788.45</td>\n",
       "      <td>0.0016</td>\n",
       "    </tr>\n",
       "    <tr>\n",
       "      <th>1995-01-05</th>\n",
       "      <td>789.90</td>\n",
       "      <td>789.80</td>\n",
       "      <td>790.20</td>\n",
       "      <td>789.30</td>\n",
       "      <td>-0.0001</td>\n",
       "    </tr>\n",
       "    <tr>\n",
       "      <th>1995-01-06</th>\n",
       "      <td>791.55</td>\n",
       "      <td>789.75</td>\n",
       "      <td>791.65</td>\n",
       "      <td>789.65</td>\n",
       "      <td>0.0021</td>\n",
       "    </tr>\n",
       "    <tr>\n",
       "      <th>...</th>\n",
       "      <td>...</td>\n",
       "      <td>...</td>\n",
       "      <td>...</td>\n",
       "      <td>...</td>\n",
       "      <td>...</td>\n",
       "    </tr>\n",
       "    <tr>\n",
       "      <th>2021-03-01</th>\n",
       "      <td>1113.33</td>\n",
       "      <td>1124.89</td>\n",
       "      <td>1125.15</td>\n",
       "      <td>1113.09</td>\n",
       "      <td>-0.0094</td>\n",
       "    </tr>\n",
       "    <tr>\n",
       "      <th>2021-03-02</th>\n",
       "      <td>1125.01</td>\n",
       "      <td>1113.53</td>\n",
       "      <td>1128.28</td>\n",
       "      <td>1102.06</td>\n",
       "      <td>0.0105</td>\n",
       "    </tr>\n",
       "    <tr>\n",
       "      <th>2021-03-03</th>\n",
       "      <td>1126.05</td>\n",
       "      <td>1125.29</td>\n",
       "      <td>1128.05</td>\n",
       "      <td>1116.95</td>\n",
       "      <td>0.0009</td>\n",
       "    </tr>\n",
       "    <tr>\n",
       "      <th>2021-03-04</th>\n",
       "      <td>1133.98</td>\n",
       "      <td>1130.12</td>\n",
       "      <td>1136.85</td>\n",
       "      <td>1123.73</td>\n",
       "      <td>0.0070</td>\n",
       "    </tr>\n",
       "    <tr>\n",
       "      <th>2021-03-05</th>\n",
       "      <td>1132.15</td>\n",
       "      <td>1134.07</td>\n",
       "      <td>1134.08</td>\n",
       "      <td>1129.81</td>\n",
       "      <td>-0.0016</td>\n",
       "    </tr>\n",
       "  </tbody>\n",
       "</table>\n",
       "<p>6820 rows × 5 columns</p>\n",
       "</div>"
      ],
      "text/plain": [
       "              Close     Open     High      Low  Change\n",
       "Date                                                  \n",
       "1995-01-02   788.50   788.50   788.50   788.50  0.0000\n",
       "1995-01-03   788.65   788.05   788.85   787.55  0.0002\n",
       "1995-01-04   789.95   788.65   790.05   788.45  0.0016\n",
       "1995-01-05   789.90   789.80   790.20   789.30 -0.0001\n",
       "1995-01-06   791.55   789.75   791.65   789.65  0.0021\n",
       "...             ...      ...      ...      ...     ...\n",
       "2021-03-01  1113.33  1124.89  1125.15  1113.09 -0.0094\n",
       "2021-03-02  1125.01  1113.53  1128.28  1102.06  0.0105\n",
       "2021-03-03  1126.05  1125.29  1128.05  1116.95  0.0009\n",
       "2021-03-04  1133.98  1130.12  1136.85  1123.73  0.0070\n",
       "2021-03-05  1132.15  1134.07  1134.08  1129.81 -0.0016\n",
       "\n",
       "[6820 rows x 5 columns]"
      ]
     },
     "execution_count": 4,
     "metadata": {},
     "output_type": "execute_result"
    }
   ],
   "source": [
    "# 원달러 환율 1995~현재\n",
    "df = fdr.DataReader('USD/KRW', '1995')\n",
    "df"
   ]
  },
  {
   "cell_type": "code",
   "execution_count": 5,
   "metadata": {},
   "outputs": [
    {
     "data": {
      "text/plain": [
       "<AxesSubplot:xlabel='Date'>"
      ]
     },
     "execution_count": 5,
     "metadata": {},
     "output_type": "execute_result"
    },
    {
     "data": {
      "image/png": "[encoded data removed]",
      "text/plain": [
       "<Figure size 432x288 with 1 Axes>"
      ]
     },
     "metadata": {
      "needs_background": "light"
     },
     "output_type": "display_data"
    }
   ],
   "source": [
    "# 일본의 캐논 회사 조회. symbol값은 인베스팅닷컴에서 확인할 수 있다\n",
    "df = fdr.DataReader(symbol='7751', start='2019-04-01', exchange='TSE')\n",
    "df['Close'].plot()"
   ]
  }
 ],
 "metadata": {
  "kernelspec": {
   "display_name": "Python 3",
   "language": "python",
   "name": "python3"
  },
  "language_info": {
   "codemirror_mode": {
    "name": "ipython",
    "version": 3
   },
   "file_extension": ".py",
   "mimetype": "text/x-python",
   "name": "python",
   "nbconvert_exporter": "python",
   "pygments_lexer": "ipython3",
   "version": "3.8.5"
  }
 },
 "nbformat": 4,
 "nbformat_minor": 4
}
