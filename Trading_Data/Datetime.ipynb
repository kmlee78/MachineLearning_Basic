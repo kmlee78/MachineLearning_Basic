{
 "cells": [
  {
   "cell_type": "code",
   "execution_count": 1,
   "metadata": {},
   "outputs": [
    {
     "name": "stdout",
     "output_type": "stream",
     "text": [
      "<class 'datetime.datetime'>\n",
      "2021-03-02 19:00:00\n"
     ]
    }
   ],
   "source": [
    "\"\"\"파이썬 내장 시간 라이브러리\"\"\"\n",
    "import datetime\n",
    "\n",
    "# str타입의 문자를 datetime형식으로 바꾸기 \n",
    "format = '%Y-%m-%d %H:%M:%S'\n",
    "datetime_str = '2021-03-02 19:00:00'\n",
    "datetime_dt = datetime.datetime.strptime(datetime_str, format)\n",
    "print(type(datetime_dt))\n",
    "print(datetime_dt)"
   ]
  },
  {
   "cell_type": "code",
   "execution_count": 2,
   "metadata": {},
   "outputs": [
    {
     "name": "stdout",
     "output_type": "stream",
     "text": [
      "<class 'str'>\n",
      "2021-03\n"
     ]
    }
   ],
   "source": [
    "# datetime을 str타입의 문자로 바꾸기\n",
    "format = '%Y-%m'\n",
    "datetime_str = datetime_dt.strftime(format)\n",
    "print(type(datetime_str))\n",
    "print(datetime_str)"
   ]
  },
  {
   "cell_type": "code",
   "execution_count": 3,
   "metadata": {},
   "outputs": [
    {
     "data": {
      "text/plain": [
       "numpy.datetime64('2021-03-02')"
      ]
     },
     "execution_count": 3,
     "metadata": {},
     "output_type": "execute_result"
    }
   ],
   "source": [
    "\"\"\"numpy의 시간 라이브러리\"\"\"\n",
    "import numpy as np\n",
    "\n",
    "np.datetime64('2021-03-02')"
   ]
  },
  {
   "cell_type": "code",
   "execution_count": 4,
   "metadata": {},
   "outputs": [
    {
     "name": "stdout",
     "output_type": "stream",
     "text": [
      "1997-05-19\n"
     ]
    },
    {
     "data": {
      "text/plain": [
       "numpy.datetime64('2001-09-09T01:46:40')"
      ]
     },
     "execution_count": 4,
     "metadata": {},
     "output_type": "execute_result"
    }
   ],
   "source": [
    "# 유닉스 기준 시간(1970년 1월 1일)을 기준으로 날짜 만들기\n",
    "print(np.datetime64(10000,'D'))\n",
    "np.datetime64(1000000000,'s')"
   ]
  },
  {
   "cell_type": "code",
   "execution_count": 5,
   "metadata": {},
   "outputs": [
    {
     "data": {
      "text/plain": [
       "array(['2005-02-01', '2005-02-02', '2005-02-03', '2005-02-04',\n",
       "       '2005-02-05', '2005-02-06', '2005-02-07', '2005-02-08',\n",
       "       '2005-02-09', '2005-02-10', '2005-02-11', '2005-02-12',\n",
       "       '2005-02-13', '2005-02-14', '2005-02-15', '2005-02-16',\n",
       "       '2005-02-17', '2005-02-18', '2005-02-19', '2005-02-20',\n",
       "       '2005-02-21', '2005-02-22', '2005-02-23', '2005-02-24',\n",
       "       '2005-02-25', '2005-02-26', '2005-02-27', '2005-02-28'],\n",
       "      dtype='datetime64[D]')"
      ]
     },
     "execution_count": 5,
     "metadata": {},
     "output_type": "execute_result"
    }
   ],
   "source": [
    "# arange()함수로 날짜 범위 지정하기. datetime64[D]는 일자까지 나온다\n",
    "np.arange('2005-02', '2005-03', dtype='datetime64[D]')"
   ]
  },
  {
   "cell_type": "code",
   "execution_count": 6,
   "metadata": {},
   "outputs": [
    {
     "data": {
      "text/plain": [
       "array(['2005-02', '2005-03', '2005-04', '2005-05', '2005-06', '2005-07',\n",
       "       '2005-08', '2005-09', '2005-10', '2005-11', '2005-12'],\n",
       "      dtype='datetime64[M]')"
      ]
     },
     "execution_count": 6,
     "metadata": {},
     "output_type": "execute_result"
    }
   ],
   "source": [
    "# datetime64[M]는 달이 나오겠지\n",
    "np.arange('2005-02', '2006-01-31', dtype='datetime64[M]')"
   ]
  },
  {
   "cell_type": "code",
   "execution_count": 7,
   "metadata": {},
   "outputs": [
    {
     "data": {
      "text/plain": [
       "numpy.timedelta64(551,'D')"
      ]
     },
     "execution_count": 7,
     "metadata": {},
     "output_type": "execute_result"
    }
   ],
   "source": [
    "# 두 날짜의 간격. 두 날짜 중 작은 단위 날짜로 맞춘다.\n",
    "np.datetime64('2010-03-01') - np.datetime64('2008-08-27')"
   ]
  },
  {
   "cell_type": "code",
   "execution_count": 8,
   "metadata": {},
   "outputs": [
    {
     "data": {
      "text/plain": [
       "Timestamp('1973-05-19 13:37:37.920000')"
      ]
     },
     "execution_count": 8,
     "metadata": {},
     "output_type": "execute_result"
    }
   ],
   "source": [
    "\"\"\"pandas의 시간 라이브러리\"\"\"\n",
    "import pandas as pd\n",
    "\n",
    "# Timestamp 함수에 수치를 넣어주고 unit값을 매개변수로 넣어주면 numpy에서와 마찬가지로 유닉스 시각 출력\n",
    "pd.Timestamp(1234.5678, unit='D')"
   ]
  },
  {
   "cell_type": "code",
   "execution_count": 9,
   "metadata": {},
   "outputs": [
    {
     "data": {
      "text/plain": [
       "DatetimeIndex(['2018-01-01', '2019-01-03'], dtype='datetime64[ns]', freq=None)"
      ]
     },
     "execution_count": 9,
     "metadata": {},
     "output_type": "execute_result"
    }
   ],
   "source": [
    "pd.to_datetime(['2018-1-1', '2019-1-3'])"
   ]
  },
  {
   "cell_type": "code",
   "execution_count": 10,
   "metadata": {},
   "outputs": [
    {
     "data": {
      "text/plain": [
       "DatetimeIndex(['2019-01-01', '2019-01-02', '2019-01-03', '2019-01-04',\n",
       "               '2019-01-05', '2019-01-06', '2019-01-07', '2019-01-08',\n",
       "               '2019-01-09', '2019-01-10', '2019-01-11', '2019-01-12',\n",
       "               '2019-01-13', '2019-01-14', '2019-01-15', '2019-01-16',\n",
       "               '2019-01-17', '2019-01-18', '2019-01-19', '2019-01-20',\n",
       "               '2019-01-21', '2019-01-22', '2019-01-23', '2019-01-24',\n",
       "               '2019-01-25', '2019-01-26', '2019-01-27', '2019-01-28',\n",
       "               '2019-01-29', '2019-01-30', '2019-01-31', '2019-02-01'],\n",
       "              dtype='datetime64[ns]', freq='D')"
      ]
     },
     "execution_count": 10,
     "metadata": {},
     "output_type": "execute_result"
    }
   ],
   "source": [
    "pd.date_range('2019-01', '2019-02')"
   ]
  },
  {
   "cell_type": "code",
   "execution_count": 11,
   "metadata": {},
   "outputs": [
    {
     "data": {
      "text/plain": [
       "Period('2019-01', 'M')"
      ]
     },
     "execution_count": 11,
     "metadata": {},
     "output_type": "execute_result"
    }
   ],
   "source": [
    "pd.Period('2019-01')"
   ]
  },
  {
   "cell_type": "code",
   "execution_count": 12,
   "metadata": {},
   "outputs": [
    {
     "data": {
      "text/plain": [
       "PeriodIndex(['2019-01-01', '2019-01-02', '2019-01-03', '2019-01-04',\n",
       "             '2019-01-05', '2019-01-06', '2019-01-07', '2019-01-08',\n",
       "             '2019-01-09', '2019-01-10', '2019-01-11', '2019-01-12',\n",
       "             '2019-01-13', '2019-01-14', '2019-01-15', '2019-01-16',\n",
       "             '2019-01-17', '2019-01-18', '2019-01-19', '2019-01-20',\n",
       "             '2019-01-21', '2019-01-22', '2019-01-23', '2019-01-24',\n",
       "             '2019-01-25', '2019-01-26', '2019-01-27', '2019-01-28',\n",
       "             '2019-01-29', '2019-01-30', '2019-01-31', '2019-02-01'],\n",
       "            dtype='period[D]', freq='D')"
      ]
     },
     "execution_count": 12,
     "metadata": {},
     "output_type": "execute_result"
    }
   ],
   "source": [
    "# freq='D'라는 파라미터를 추가해서 출력값 기준이 '일'로 나오게 함\n",
    "pd.period_range('2019-01', '2019-02', freq='D')"
   ]
  },
  {
   "cell_type": "code",
   "execution_count": 13,
   "metadata": {},
   "outputs": [
    {
     "data": {
      "text/plain": [
       "True"
      ]
     },
     "execution_count": 13,
     "metadata": {},
     "output_type": "execute_result"
    }
   ],
   "source": [
    "# Timestamp와 Period의 차이: Timestamp는 한 시점이고 Period는 1일의 시작 시점부터 종료 시점까지의 범위\n",
    "p = pd.Period('2019-06-13')\n",
    "test = pd.Timestamp('2019-06-13 12:00:00')\n",
    "p.start_time < test < p.end_time"
   ]
  },
  {
   "cell_type": "code",
   "execution_count": 14,
   "metadata": {},
   "outputs": [
    {
     "data": {
      "text/plain": [
       "DatetimeIndex(['2019-01-01', '2019-01-02', '2019-01-03', '2019-01-04',\n",
       "               '2019-01-07', '2019-01-08', '2019-01-09', '2019-01-10',\n",
       "               '2019-01-11', '2019-01-14', '2019-01-15', '2019-01-16',\n",
       "               '2019-01-17', '2019-01-18', '2019-01-21', '2019-01-22',\n",
       "               '2019-01-23', '2019-01-24', '2019-01-25', '2019-01-28',\n",
       "               '2019-01-29', '2019-01-30', '2019-01-31', '2019-02-01'],\n",
       "              dtype='datetime64[ns]', freq='B')"
      ]
     },
     "execution_count": 14,
     "metadata": {},
     "output_type": "execute_result"
    }
   ],
   "source": [
    "# freq인자에 다양한 값을 넣어 다양한 결과를 얻을 수 있다.\n",
    "# 예)B: 영업일, W: 주말\n",
    "pd.date_range('2019-01-01', '2019-02-01', freq='B')"
   ]
  }
 ],
 "metadata": {
  "kernelspec": {
   "display_name": "Python 3",
   "language": "python",
   "name": "python3"
  },
  "language_info": {
   "codemirror_mode": {
    "name": "ipython",
    "version": 3
   },
   "file_extension": ".py",
   "mimetype": "text/x-python",
   "name": "python",
   "nbconvert_exporter": "python",
   "pygments_lexer": "ipython3",
   "version": "3.8.5"
  }
 },
 "nbformat": 4,
 "nbformat_minor": 4
}
